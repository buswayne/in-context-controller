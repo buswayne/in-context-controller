{
 "cells": [
  {
   "cell_type": "code",
   "id": "df653a7d",
   "metadata": {
    "ExecuteTime": {
     "end_time": "2024-08-30T06:59:02.900558Z",
     "start_time": "2024-08-30T06:59:02.896821Z"
    }
   },
   "source": [
    "from pathlib import Path\n",
    "import time\n",
    "import torch\n",
    "import numpy as np\n",
    "import pandas as pd\n",
    "from torch.utils.data import DataLoader\n",
    "import matplotlib.pyplot as plt\n",
    "from transformer_onestep import GPTConfig, GPT\n",
    "from transformer_onestep_CL import GPTClosedLoop\n",
    "import tqdm\n",
    "import argparse"
   ],
   "outputs": [],
   "execution_count": 61
  },
  {
   "metadata": {
    "ExecuteTime": {
     "end_time": "2024-08-30T06:59:02.919923Z",
     "start_time": "2024-08-30T06:59:02.915073Z"
    }
   },
   "cell_type": "code",
   "source": [
    "plt.rcParams['pdf.fonttype'] = 42\n",
    "plt.rcParams['ps.fonttype'] = 42\n",
    "plt.rcParams[\"font.family\"] = \"Times New Roman\"\n",
    "plt.rcParams[\"mathtext.fontset\"] = \"cm\"\n",
    "plt.rcParams['axes.labelsize']=14\n",
    "plt.rcParams['xtick.labelsize']=11\n",
    "plt.rcParams['ytick.labelsize']=11\n",
    "plt.rcParams['axes.grid']=True\n",
    "plt.rcParams['axes.xmargin']=0"
   ],
   "id": "753b8ee3089de322",
   "outputs": [],
   "execution_count": 62
  },
  {
   "cell_type": "code",
   "id": "e4a8b43d",
   "metadata": {
    "ExecuteTime": {
     "end_time": "2024-08-30T06:59:02.972011Z",
     "start_time": "2024-08-30T06:59:02.966509Z"
    }
   },
   "source": [
    "fig_path = Path(\"fig\")\n",
    "fig_path.mkdir(exist_ok=True)"
   ],
   "outputs": [],
   "execution_count": 63
  },
  {
   "cell_type": "code",
   "id": "1d446d6d",
   "metadata": {
    "ExecuteTime": {
     "end_time": "2024-08-30T06:59:02.994597Z",
     "start_time": "2024-08-30T06:59:02.990042Z"
    }
   },
   "source": [
    "# Fix all random sources to make script fully reproducible\n",
    "torch.manual_seed(420)\n",
    "np.random.seed(430)\n",
    "system_seed = 430 # Controls the system generation\n",
    "data_seed = 0 # Control the input generation"
   ],
   "outputs": [],
   "execution_count": 64
  },
  {
   "cell_type": "code",
   "id": "6a235fd7",
   "metadata": {
    "ExecuteTime": {
     "end_time": "2024-08-30T06:59:03.002041Z",
     "start_time": "2024-08-30T06:59:02.995602Z"
    }
   },
   "source": [
    "# Overall settings\n",
    "out_dir = \"out\"\n",
    "\n",
    "# System settings\n",
    "nu = 1\n",
    "ny = 1\n",
    "#seq_len = 600\n",
    "batch_size = 50 # 256\n",
    "\n",
    "# Compute settings\n",
    "cuda_device = \"cuda:0\"\n",
    "no_cuda = False\n",
    "threads = 10\n",
    "compile = False\n",
    "\n",
    "# Configure compute\n",
    "torch.set_num_threads(threads) \n",
    "use_cuda = not no_cuda and torch.cuda.is_available()\n",
    "device_name  = cuda_device if use_cuda else \"cpu\"\n",
    "device = torch.device(device_name)\n",
    "device_type = 'cuda' if 'cuda' in device_name else 'cpu' # for later use in torch.autocast\n",
    "torch.set_float32_matmul_precision(\"high\")\n",
    "#torch.backends.cuda.matmul.allow_tf32 = True # allow tf32 on matmul\n",
    "#torch.backends.cudnn.allow_tf32 = True # allow tf32 on cudnn"
   ],
   "outputs": [],
   "execution_count": 65
  },
  {
   "metadata": {
    "ExecuteTime": {
     "end_time": "2024-08-30T06:59:03.008004Z",
     "start_time": "2024-08-30T06:59:03.003047Z"
    }
   },
   "cell_type": "code",
   "source": "torch.cuda.is_available()",
   "id": "4abe4c4e9fde259c",
   "outputs": [
    {
     "data": {
      "text/plain": [
       "True"
      ]
     },
     "execution_count": 66,
     "metadata": {},
     "output_type": "execute_result"
    }
   ],
   "execution_count": 66
  },
  {
   "cell_type": "code",
   "id": "69ad2d3e",
   "metadata": {
    "ExecuteTime": {
     "end_time": "2024-08-30T06:59:03.094969Z",
     "start_time": "2024-08-30T06:59:03.009008Z"
    }
   },
   "source": [
    "# Create out dir\n",
    "out_dir = Path(out_dir)\n",
    "exp_data = torch.load(out_dir/\"ckpt_onestep_evaporation_v1.pt\", map_location=device)"
   ],
   "outputs": [],
   "execution_count": 67
  },
  {
   "metadata": {
    "ExecuteTime": {
     "end_time": "2024-08-30T06:59:03.099903Z",
     "start_time": "2024-08-30T06:59:03.096488Z"
    }
   },
   "cell_type": "code",
   "source": [
    "seq_len = exp_data[\"cfg\"].seq_len\n",
    "nx = exp_data[\"cfg\"].nx"
   ],
   "id": "0c029f10",
   "outputs": [],
   "execution_count": 68
  },
  {
   "metadata": {
    "ExecuteTime": {
     "end_time": "2024-08-30T06:59:03.105036Z",
     "start_time": "2024-08-30T06:59:03.100912Z"
    }
   },
   "cell_type": "code",
   "source": "# del exp_data[\"model_args\"]['use_pi']",
   "id": "5a19bddafa792798",
   "outputs": [],
   "execution_count": 69
  },
  {
   "cell_type": "code",
   "id": "34332c1a",
   "metadata": {
    "ExecuteTime": {
     "end_time": "2024-08-30T06:59:03.130181Z",
     "start_time": "2024-08-30T06:59:03.106628Z"
    }
   },
   "source": [
    "model_args = exp_data[\"model_args\"]\n",
    "# model_args['use_p'] = True\n",
    "# model_args['use_i'] = True\n",
    "# model_args['use_d'] = False\n",
    "gptconf = GPTConfig(**model_args)\n",
    "model_CL = GPTClosedLoop(gptconf).to(device)\n",
    "\n",
    "state_dict = exp_data[\"model\"]\n",
    "unwanted_prefix = '_orig_mod.'\n",
    "for k,v in list(state_dict.items()):\n",
    "    if k.startswith(unwanted_prefix):\n",
    "        state_dict[k[len(unwanted_prefix):]] = state_dict.pop(k)\n",
    "model_CL.load_state_dict(state_dict)\n",
    "model = model_CL.gpt_model"
   ],
   "outputs": [
    {
     "name": "stdout",
     "output_type": "stream",
     "text": [
      "number of parameters: 0.10M\n"
     ]
    }
   ],
   "execution_count": 70
  },
  {
   "metadata": {
    "ExecuteTime": {
     "end_time": "2024-08-30T06:59:03.135268Z",
     "start_time": "2024-08-30T06:59:03.131187Z"
    }
   },
   "cell_type": "code",
   "source": "exp_data.keys()",
   "id": "74988fda1ac91ce9",
   "outputs": [
    {
     "data": {
      "text/plain": [
       "dict_keys(['model', 'optimizer', 'model_args', 'iter_num', 'train_time', 'LOSS', 'LOSS_VAL', 'best_val_loss', 'cfg'])"
      ]
     },
     "execution_count": 71,
     "metadata": {},
     "output_type": "execute_result"
    }
   ],
   "execution_count": 71
  },
  {
   "metadata": {
    "ExecuteTime": {
     "end_time": "2024-08-30T06:59:03.140969Z",
     "start_time": "2024-08-30T06:59:03.136796Z"
    }
   },
   "cell_type": "code",
   "source": "exp_data['best_val_loss']",
   "id": "c021172801ba02f8",
   "outputs": [
    {
     "data": {
      "text/plain": [
       "2.3379781246185303"
      ]
     },
     "execution_count": 72,
     "metadata": {},
     "output_type": "execute_result"
    }
   ],
   "execution_count": 72
  },
  {
   "metadata": {
    "ExecuteTime": {
     "end_time": "2024-08-30T06:59:03.293786Z",
     "start_time": "2024-08-30T06:59:03.141977Z"
    }
   },
   "cell_type": "code",
   "source": [
    "plt.plot(exp_data['LOSS'])\n",
    "plt.plot(exp_data['LOSS_VAL'])\n",
    "# plt.xlim([0, 2000])"
   ],
   "id": "c9969b48090f2c1b",
   "outputs": [
    {
     "data": {
      "text/plain": [
       "[<matplotlib.lines.Line2D at 0x1b22ab03e10>]"
      ]
     },
     "execution_count": 73,
     "metadata": {},
     "output_type": "execute_result"
    },
    {
     "data": {
      "text/plain": [
       "<Figure size 640x480 with 1 Axes>"
      ],
      "image/png": "[encoded data removed]"
     },
     "metadata": {},
     "output_type": "display_data"
    }
   ],
   "execution_count": 73
  },
  {
   "metadata": {
    "ExecuteTime": {
     "end_time": "2024-08-30T06:59:03.299131Z",
     "start_time": "2024-08-30T06:59:03.294793Z"
    }
   },
   "cell_type": "code",
   "source": "exp_data['train_time'] / 3600",
   "id": "9da4e0176fa4c873",
   "outputs": [
    {
     "data": {
      "text/plain": [
       "14.829812766710917"
      ]
     },
     "execution_count": 74,
     "metadata": {},
     "output_type": "execute_result"
    }
   ],
   "execution_count": 74
  },
  {
   "metadata": {
    "ExecuteTime": {
     "end_time": "2024-08-30T06:59:03.311301Z",
     "start_time": "2024-08-30T06:59:03.300138Z"
    }
   },
   "cell_type": "code",
   "source": [
    "from control_torch import drss, set_seed, forced_response, tf2ss, c2d, drss_matrices\n",
    "set_seed(42) \n",
    "\n",
    "seq_len = 300  \n",
    "nx = 2\n",
    "nu = 1\n",
    "ny = 1\n",
    " \n",
    "# define settings\n",
    "ts = 1  \n",
    "\n",
    "# define nominal model\n",
    "G = drss_matrices(nx, nu, ny, device=device)"
   ],
   "id": "ef51add4403cf6bd",
   "outputs": [],
   "execution_count": 75
  },
  {
   "metadata": {
    "ExecuteTime": {
     "end_time": "2024-08-30T06:59:03.467629Z",
     "start_time": "2024-08-30T06:59:03.313306Z"
    }
   },
   "cell_type": "code",
   "source": [
    "from signals_torch import steps_sequence\n",
    "\n",
    "T = 100\n",
    "t = torch.arange(0, T, ts, device=device, dtype=torch.float32).view(-1, 1)\n",
    "r = torch.zeros((T,2), device=device, dtype=torch.float32)\n",
    "\n",
    "r[:,0] = steps_sequence(T, ts, 20, 25, 20, 50).T\n",
    "r[:,1] = steps_sequence(T, ts, 40, 60, 20, 50).T\n",
    "\n",
    "\n",
    "y_d = r\n",
    "\n",
    "plt.plot(t.cpu().numpy(), r.cpu().numpy())\n",
    "plt.plot(t.cpu().numpy(), y_d.cpu().numpy())"
   ],
   "id": "b86707e8821d0dce",
   "outputs": [
    {
     "data": {
      "text/plain": [
       "[<matplotlib.lines.Line2D at 0x1b238f04890>,\n",
       " <matplotlib.lines.Line2D at 0x1b238f04e10>]"
      ]
     },
     "execution_count": 76,
     "metadata": {},
     "output_type": "execute_result"
    },
    {
     "data": {
      "text/plain": [
       "<Figure size 640x480 with 1 Axes>"
      ],
      "image/png": "[encoded data removed]"
     },
     "metadata": {},
     "output_type": "display_data"
    }
   ],
   "execution_count": 76
  },
  {
   "metadata": {
    "ExecuteTime": {
     "end_time": "2024-08-30T06:59:03.479845Z",
     "start_time": "2024-08-30T06:59:03.468639Z"
    }
   },
   "cell_type": "code",
   "source": [
    "print(model.proportional_coefficient)\n",
    "print(model.integral_coefficient)\n",
    "print(model.derivative_coefficient)"
   ],
   "id": "a5aa0b623c311257",
   "outputs": [
    {
     "name": "stdout",
     "output_type": "stream",
     "text": [
      "Parameter containing:\n",
      "tensor([1.7978], device='cuda:0', requires_grad=True)\n",
      "Parameter containing:\n",
      "tensor([1.7085], device='cuda:0', requires_grad=True)\n",
      "Parameter containing:\n",
      "tensor([0.8525], device='cuda:0', requires_grad=True)\n"
     ]
    }
   ],
   "execution_count": 77
  },
  {
   "metadata": {
    "ExecuteTime": {
     "end_time": "2024-08-30T06:59:04.298993Z",
     "start_time": "2024-08-30T06:59:03.480853Z"
    }
   },
   "cell_type": "code",
   "source": [
    "from evaporation_process import problem_data, dynamics\n",
    "import pickle as pkl\n",
    "H = 100\n",
    "\n",
    "data = problem_data(0)\n",
    "\n",
    "n_test = 1    \n",
    "E_log = np.zeros((n_test, len(t), 2))\n",
    "U_log = np.zeros((n_test, len(t), 2))\n",
    "Y_log = np.zeros((n_test, len(t), 2))\n",
    "\n",
    "for key in range(n_test):\n",
    "    \n",
    "    E = torch.empty((n_test, len(t), 2), device=device, dtype=torch.float32)\n",
    "    U = torch.empty((n_test, len(t)+1, 2), device=device, dtype=torch.float32)\n",
    "    Y = torch.empty((n_test, len(t), 2), device=device, dtype=torch.float32)\n",
    "    \n",
    "    with torch.no_grad():\n",
    "        # initial\n",
    "        U[0, 0, :] = 0\n",
    "        y_i = torch.tensor([25, 49.743], device=device, dtype=torch.float32).unsqueeze(0).repeat(1, 1)\n",
    "        x_i = y_i.clone()\n",
    "        \n",
    "        for i in range(len(t)):\n",
    "            \n",
    "            # print('time instant:', i)\n",
    "            # start the loop with error\n",
    "            e_i = r[i] - y_i\n",
    "\n",
    "            Y[0,i,:] = y_i\n",
    "            E[0,i,:] = e_i\n",
    "            \n",
    "            # Controller u(t) = C(e(t),u(t-1))\n",
    "            if i < H:\n",
    "                pred = model(E[:, :i+1, :], U[:, :i+1, :])\n",
    "            else:\n",
    "                pred = model(E[:, i-H+1:i+1, :], U[:, i-H+1:i+1, :])\n",
    "                \n",
    "            U[:, i+1, :] = pred[:,-1,:]  # Just for coherence\n",
    "\n",
    "            # Simulate system response\n",
    "            x_dot = dynamics(x_i[0], U[0, i+1, :], *data)\n",
    "            # Integrate dynamics using forward Euler integration\n",
    "            y_i = x_i + ts * x_dot\n",
    "            x_i = y_i.clone()\n",
    "            \n",
    "    E_log[key] = E[0,:,:].cpu().numpy()\n",
    "    U_log[key] = U[0,1:,:].cpu().numpy()\n",
    "    Y_log[key] = Y[0,:,:].cpu().numpy()\n",
    "    \n",
    "    if key == n_test-1:\n",
    "        break"
   ],
   "id": "675a2901cb94884a",
   "outputs": [
    {
     "name": "stdout",
     "output_type": "stream",
     "text": [
      "tensor([-1.0295], device='cuda:0')\n",
      "tensor([-0.6750], device='cuda:0')\n",
      "tensor([-0.3692], device='cuda:0')\n",
      "tensor([-0.1542], device='cuda:0')\n",
      "tensor([-0.1226], device='cuda:0')\n",
      "tensor([-0.1902], device='cuda:0')\n",
      "tensor([-0.2922], device='cuda:0')\n",
      "tensor([-0.2435], device='cuda:0')\n",
      "tensor([-0.3516], device='cuda:0')\n",
      "tensor([-0.3321], device='cuda:0')\n",
      "tensor([-0.2089], device='cuda:0')\n",
      "tensor([-0.2311], device='cuda:0')\n",
      "tensor([-0.2006], device='cuda:0')\n",
      "tensor([-0.1804], device='cuda:0')\n",
      "tensor([-0.1591], device='cuda:0')\n",
      "tensor([-0.1387], device='cuda:0')\n",
      "tensor([-0.1363], device='cuda:0')\n",
      "tensor([-0.0709], device='cuda:0')\n",
      "tensor([-0.0448], device='cuda:0')\n",
      "tensor([0.0374], device='cuda:0')\n",
      "tensor([0.1055], device='cuda:0')\n",
      "tensor([0.2202], device='cuda:0')\n",
      "tensor([0.3430], device='cuda:0')\n",
      "tensor([0.4975], device='cuda:0')\n",
      "tensor([0.9672], device='cuda:0')\n",
      "tensor([1.1016], device='cuda:0')\n",
      "tensor([0.1730], device='cuda:0')\n",
      "tensor([1.8976], device='cuda:0')\n",
      "tensor([0.0467], device='cuda:0')\n",
      "tensor([0.0077], device='cuda:0')\n",
      "tensor([-0.0182], device='cuda:0')\n",
      "tensor([-0.0970], device='cuda:0')\n",
      "tensor([-0.1089], device='cuda:0')\n",
      "tensor([-0.1513], device='cuda:0')\n",
      "tensor([-0.1697], device='cuda:0')\n",
      "tensor([-0.0756], device='cuda:0')\n",
      "tensor([-0.0525], device='cuda:0')\n",
      "tensor([-0.1807], device='cuda:0')\n",
      "tensor([-0.1613], device='cuda:0')\n",
      "tensor([-0.1791], device='cuda:0')\n",
      "tensor([0.1285], device='cuda:0')\n",
      "tensor([-0.2002], device='cuda:0')\n",
      "tensor([-0.2417], device='cuda:0')\n",
      "tensor([-0.0480], device='cuda:0')\n",
      "tensor([-0.0403], device='cuda:0')\n",
      "tensor([-0.1613], device='cuda:0')\n",
      "tensor([-0.1777], device='cuda:0')\n",
      "tensor([-0.1677], device='cuda:0')\n",
      "tensor([-0.1973], device='cuda:0')\n",
      "tensor([-0.2012], device='cuda:0')\n",
      "tensor([-0.1563], device='cuda:0')\n",
      "tensor([0.0083], device='cuda:0')\n",
      "tensor([-0.1492], device='cuda:0')\n",
      "tensor([-0.0037], device='cuda:0')\n",
      "tensor([-0.0468], device='cuda:0')\n",
      "tensor([0.0508], device='cuda:0')\n",
      "tensor([-0.0782], device='cuda:0')\n",
      "tensor([0.1824], device='cuda:0')\n",
      "tensor([0.3498], device='cuda:0')\n",
      "tensor([0.0865], device='cuda:0')\n",
      "tensor([0.0829], device='cuda:0')\n",
      "tensor([0.1258], device='cuda:0')\n",
      "tensor([0.0772], device='cuda:0')\n",
      "tensor([0.0649], device='cuda:0')\n",
      "tensor([0.1523], device='cuda:0')\n",
      "tensor([0.0079], device='cuda:0')\n",
      "tensor([0.0369], device='cuda:0')\n",
      "tensor([0.0240], device='cuda:0')\n",
      "tensor([0.0068], device='cuda:0')\n",
      "tensor([0.0215], device='cuda:0')\n",
      "tensor([0.0142], device='cuda:0')\n",
      "tensor([0.0253], device='cuda:0')\n",
      "tensor([0.0197], device='cuda:0')\n",
      "tensor([-0.0026], device='cuda:0')\n",
      "tensor([0.0374], device='cuda:0')\n",
      "tensor([0.0192], device='cuda:0')\n",
      "tensor([0.0031], device='cuda:0')\n",
      "tensor([0.0066], device='cuda:0')\n",
      "tensor([0.0361], device='cuda:0')\n",
      "tensor([0.2445], device='cuda:0')\n",
      "tensor([0.1262], device='cuda:0')\n",
      "tensor([-0.1043], device='cuda:0')\n",
      "tensor([-0.1392], device='cuda:0')\n",
      "tensor([-0.1034], device='cuda:0')\n",
      "tensor([-0.1122], device='cuda:0')\n",
      "tensor([-0.1658], device='cuda:0')\n",
      "tensor([0.0412], device='cuda:0')\n",
      "tensor([-0.0259], device='cuda:0')\n",
      "tensor([0.4002], device='cuda:0')\n",
      "tensor([0.0552], device='cuda:0')\n",
      "tensor([0.1979], device='cuda:0')\n",
      "tensor([0.0480], device='cuda:0')\n",
      "tensor([0.1483], device='cuda:0')\n",
      "tensor([0.3110], device='cuda:0')\n",
      "tensor([0.3177], device='cuda:0')\n",
      "tensor([0.8071], device='cuda:0')\n",
      "tensor([0.0139], device='cuda:0')\n",
      "tensor([0.3408], device='cuda:0')\n",
      "tensor([0.1456], device='cuda:0')\n",
      "tensor([0.0116], device='cuda:0')\n"
     ]
    }
   ],
   "execution_count": 78
  },
  {
   "metadata": {
    "ExecuteTime": {
     "end_time": "2024-08-30T06:59:04.808885Z",
     "start_time": "2024-08-30T06:59:04.300002Z"
    }
   },
   "cell_type": "code",
   "source": [
    "fig = plt.figure(figsize=(10, 5))\n",
    "ax1 = plt.subplot(221)\n",
    "#plt.plot(t_CL, r)\n",
    "plt.plot(t.cpu().numpy(), r[:,0].cpu().numpy(), label=\"$r$\", c='k', linewidth=1)\n",
    "plt.plot(t.cpu().numpy(), Y_log[0,:,0].T, c='tab:blue', alpha=.3)\n",
    "plt.legend(['$r_1$','$y_1$'], loc='upper right')\n",
    "# plt.xlim([0, 0.43])\n",
    "# plt.ylim([0, 10])\n",
    "plt.tick_params('x', labelbottom=False)\n",
    "\n",
    "ax2 = plt.subplot(223, sharex=ax1)\n",
    "plt.plot(t.cpu().numpy(), r[:,1].cpu().numpy(), label=\"$r$\", c='k', linewidth=1)\n",
    "plt.plot(t.cpu().numpy(), Y_log[0,:,1].T, c='tab:blue', alpha=.3)\n",
    "plt.legend(['$r_2$','$y_2$'], loc='upper right')\n",
    "plt.xlabel('$t$ [s]')\n",
    "# plt.xlim([10, 12])\n",
    "\n",
    "\n",
    "ax3 = plt.subplot(222, sharex=ax1)\n",
    "plt.plot(t.cpu().numpy(), U_log[0,:,0].T, c='tab:blue', alpha=.3)\n",
    "# plt.ylim([0, 4])\n",
    "plt.legend(['$u_1$'], loc='upper right')\n",
    "plt.tick_params('x', labelbottom=False)\n",
    "\n",
    "ax3 = plt.subplot(224, sharex=ax1)\n",
    "plt.plot(t.cpu().numpy(), U_log[0,:,1].T, c='tab:blue', alpha=.3)\n",
    "plt.xlabel('$t$ [s]')\n",
    "# plt.ylim([0, 4])\n",
    "plt.legend(['$u_2$'], loc='upper right')\n",
    "\n",
    "# plt.savefig('transformer_controller.pdf')\n",
    "# Improve the layout to avoid overlapping\n",
    "plt.tight_layout()\n",
    "\n",
    "plt.show()"
   ],
   "id": "e38964c9e3150788",
   "outputs": [
    {
     "data": {
      "text/plain": [
       "<Figure size 1000x500 with 4 Axes>"
      ],
      "image/png": "[encoded data removed]"
     },
     "metadata": {},
     "output_type": "display_data"
    }
   ],
   "execution_count": 79
  },
  {
   "metadata": {
    "ExecuteTime": {
     "end_time": "2024-08-29T23:03:18.895744Z",
     "start_time": "2024-08-29T23:03:18.869303Z"
    }
   },
   "cell_type": "code",
   "source": "torch.empty((1, 101, 2), device=device, dtype=torch.float32)",
   "id": "5f1e13bdb3fcb36b",
   "outputs": [
    {
     "data": {
      "text/plain": [
       "tensor([[[ 2.9504e+02,  1.8162e+01],\n",
       "         [ 1.3589e+01,  1.8177e+01],\n",
       "         [ 1.3606e+01,  1.8175e+01],\n",
       "         [ 1.3618e+01,  1.8169e+01],\n",
       "         [ 1.3626e+01,  1.8155e+01],\n",
       "         [ 1.3629e+01,  1.8125e+01],\n",
       "         [ 1.3617e+01,  1.8067e+01],\n",
       "         [ 1.3566e+01,  1.7920e+01],\n",
       "         [ 1.3317e+01,  1.7394e+01],\n",
       "         [ 8.1334e+00,  9.3669e+00],\n",
       "         [ 2.7598e+00,  1.9214e+00],\n",
       "         [-7.4144e-01, -2.7049e+00],\n",
       "         [-1.8187e+00, -4.0749e+00],\n",
       "         [-2.1472e+00, -4.4585e+00],\n",
       "         [-2.8995e+00, -5.3838e+00],\n",
       "         [-1.9079e+00, -4.0993e+00],\n",
       "         [-2.8048e+00, -5.1949e+00],\n",
       "         [-3.8088e-01, -2.0649e+00],\n",
       "         [-1.8180e+00, -3.8461e+00],\n",
       "         [ 1.9831e+00,  1.1542e+00],\n",
       "         [-2.0015e+00, -3.9671e+00],\n",
       "         [ 5.7520e+00,  6.3887e+00],\n",
       "         [-3.1786e+00, -5.2986e+00],\n",
       "         [ 7.9673e+00,  9.5906e+00],\n",
       "         [-3.8412e+00, -5.9985e+00],\n",
       "         [-3.1476e-01, -1.6877e+00],\n",
       "         [-3.4033e+00, -5.5087e+00],\n",
       "         [-2.8295e+00, -4.8396e+00],\n",
       "         [-3.6317e-01, -1.5939e+00],\n",
       "         [-7.6360e-01, -2.0618e+00],\n",
       "         [ 1.2595e+00,  6.3378e-01],\n",
       "         [-6.4009e-01, -1.8161e+00],\n",
       "         [ 2.9021e+00,  2.9127e+00],\n",
       "         [-1.7633e+00, -3.1971e+00],\n",
       "         [ 7.1218e+00,  8.8094e+00],\n",
       "         [-3.3018e+00, -5.0524e+00],\n",
       "         [ 4.9780e+00,  5.8798e+00],\n",
       "         [-3.6447e+00, -5.4409e+00],\n",
       "         [ 6.6551e+00,  8.2791e+00],\n",
       "         [-4.2005e+00, -6.0901e+00],\n",
       "         [ 1.1077e+01,  1.4617e+01],\n",
       "         [-3.4496e+00, -5.0861e+00],\n",
       "         [-4.5428e+00, -6.5328e+00],\n",
       "         [-4.4839e+00, -6.4253e+00],\n",
       "         [-4.0276e+00, -5.8323e+00],\n",
       "         [-2.5054e+00, -3.8786e+00],\n",
       "         [ 9.0375e-01,  6.3703e-01],\n",
       "         [ 4.0988e-01, -1.8800e-03],\n",
       "         [ 3.2459e+00,  3.8326e+00],\n",
       "         [-3.4992e-01, -9.7664e-01],\n",
       "         [ 3.1272e+00,  3.6967e+00],\n",
       "         [-1.5492e+00, -2.5179e+00],\n",
       "         [ 1.8707e+00,  2.0435e+00],\n",
       "         [-1.7519e+00, -2.7415e+00],\n",
       "         [ 2.2223e-01, -1.2968e-01],\n",
       "         [-1.8350e+00, -2.8301e+00],\n",
       "         [ 2.8224e+00,  3.3886e+00],\n",
       "         [-1.7580e+00, -2.7035e+00],\n",
       "         [ 1.2513e+01,  1.6898e+01],\n",
       "         [-1.1264e+00, -1.9037e+00],\n",
       "         [ 5.7433e+00,  7.3773e+00],\n",
       "         [-2.3083e+00, -3.4119e+00],\n",
       "         [-8.4158e-01, -1.4753e+00],\n",
       "         [-1.8512e+00, -2.7844e+00],\n",
       "         [ 7.6635e+00, -1.9422e+00],\n",
       "         [-1.1649e+00, -1.8583e+00],\n",
       "         [-5.4858e-01, -1.0388e+00],\n",
       "         [-1.5221e-01, -5.0405e-01],\n",
       "         [ 1.3389e-02, -2.7519e-01],\n",
       "         [ 2.6198e-01,  6.4162e-02],\n",
       "         [ 2.1175e-01,  1.9411e-03],\n",
       "         [ 2.0773e-01, -8.6427e-05],\n",
       "         [ 1.8389e-01, -2.4078e-02],\n",
       "         [ 1.5124e-01, -6.0913e-02],\n",
       "         [ 1.8456e-01, -1.6010e-02],\n",
       "         [ 3.9769e-02, -2.0016e-01],\n",
       "         [ 2.9120e-01,  1.4061e-01],\n",
       "         [ 6.6913e-02, -1.5910e-01],\n",
       "         [ 4.4376e-01,  3.4981e-01],\n",
       "         [-5.2058e+00, -6.9825e+00],\n",
       "         [-4.6490e+00, -6.2418e+00],\n",
       "         [-3.5458e+00, -4.8165e+00],\n",
       "         [-1.9967e+00, -2.7896e+00],\n",
       "         [-9.3026e-01, -1.3768e+00],\n",
       "         [-8.9924e-01, -1.3391e+00],\n",
       "         [ 6.6316e+00,  8.8665e+00],\n",
       "         [-2.9836e+00, -4.1161e+00],\n",
       "         [-4.9693e+00, -6.6087e+00],\n",
       "         [ 3.7816e+00,  5.0376e+00],\n",
       "         [ 7.8873e-01,  8.7939e-01],\n",
       "         [ 8.8327e+00,  1.1883e+01],\n",
       "         [-9.0651e-01, -1.4169e+00],\n",
       "         [ 5.3900e+00,  7.1588e+00],\n",
       "         [-1.7813e+00, -2.5484e+00],\n",
       "         [-1.2685e+00, -1.7919e+00],\n",
       "         [-2.0103e+00, -2.7818e+00],\n",
       "         [-1.5672e+00, -2.1848e+00],\n",
       "         [-1.1243e+00, -1.5899e+00],\n",
       "         [-3.8431e-01, -6.0529e-01],\n",
       "         [ 2.2146e+00,  2.8609e+00],\n",
       "         [ 4.9780e+00,  5.8798e+00]]], device='cuda:0')"
      ]
     },
     "execution_count": 60,
     "metadata": {},
     "output_type": "execute_result"
    }
   ],
   "execution_count": 60
  },
  {
   "metadata": {
    "ExecuteTime": {
     "end_time": "2024-08-29T23:03:18.899260Z",
     "start_time": "2024-08-29T23:03:18.896751Z"
    }
   },
   "cell_type": "code",
   "source": "",
   "id": "d14769f5fb7c3d07",
   "outputs": [],
   "execution_count": 60
  }
 ],
 "metadata": {
  "kernelspec": {
   "display_name": "Python 3 (ipykernel)",
   "language": "python",
   "name": "python3"
  },
  "language_info": {
   "codemirror_mode": {
    "name": "ipython",
    "version": 3
   },
   "file_extension": ".py",
   "mimetype": "text/x-python",
   "name": "python",
   "nbconvert_exporter": "python",
   "pygments_lexer": "ipython3",
   "version": "3.11.0"
  }
 },
 "nbformat": 4,
 "nbformat_minor": 5
}
