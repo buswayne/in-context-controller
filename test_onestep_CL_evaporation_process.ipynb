{
 "cells": [
  {
   "cell_type": "code",
   "id": "df653a7d",
   "metadata": {
    "ExecuteTime": {
     "end_time": "2024-08-29T17:55:51.582370Z",
     "start_time": "2024-08-29T17:55:46.911232Z"
    }
   },
   "source": [
    "from pathlib import Path\n",
    "import time\n",
    "import torch\n",
    "import numpy as np\n",
    "import pandas as pd\n",
    "from torch.utils.data import DataLoader\n",
    "import matplotlib.pyplot as plt\n",
    "from transformer_onestep import GPTConfig, GPT\n",
    "from transformer_onestep_CL import GPTClosedLoop\n",
    "import tqdm\n",
    "import argparse"
   ],
   "outputs": [],
   "execution_count": 1
  },
  {
   "metadata": {
    "ExecuteTime": {
     "end_time": "2024-08-29T17:55:51.589771Z",
     "start_time": "2024-08-29T17:55:51.585380Z"
    }
   },
   "cell_type": "code",
   "source": [
    "plt.rcParams['pdf.fonttype'] = 42\n",
    "plt.rcParams['ps.fonttype'] = 42\n",
    "plt.rcParams[\"font.family\"] = \"Times New Roman\"\n",
    "plt.rcParams[\"mathtext.fontset\"] = \"cm\"\n",
    "plt.rcParams['axes.labelsize']=14\n",
    "plt.rcParams['xtick.labelsize']=11\n",
    "plt.rcParams['ytick.labelsize']=11\n",
    "plt.rcParams['axes.grid']=True\n",
    "plt.rcParams['axes.xmargin']=0"
   ],
   "id": "753b8ee3089de322",
   "outputs": [],
   "execution_count": 2
  },
  {
   "cell_type": "code",
   "id": "e4a8b43d",
   "metadata": {
    "ExecuteTime": {
     "end_time": "2024-08-29T17:55:51.596292Z",
     "start_time": "2024-08-29T17:55:51.590780Z"
    }
   },
   "source": [
    "fig_path = Path(\"fig\")\n",
    "fig_path.mkdir(exist_ok=True)"
   ],
   "outputs": [],
   "execution_count": 3
  },
  {
   "cell_type": "code",
   "id": "1d446d6d",
   "metadata": {
    "ExecuteTime": {
     "end_time": "2024-08-29T17:55:51.604893Z",
     "start_time": "2024-08-29T17:55:51.597303Z"
    }
   },
   "source": [
    "# Fix all random sources to make script fully reproducible\n",
    "torch.manual_seed(420)\n",
    "np.random.seed(430)\n",
    "system_seed = 430 # Controls the system generation\n",
    "data_seed = 0 # Control the input generation"
   ],
   "outputs": [],
   "execution_count": 4
  },
  {
   "cell_type": "code",
   "id": "6a235fd7",
   "metadata": {
    "ExecuteTime": {
     "end_time": "2024-08-29T17:55:51.683470Z",
     "start_time": "2024-08-29T17:55:51.606412Z"
    }
   },
   "source": [
    "# Overall settings\n",
    "out_dir = \"out\"\n",
    "\n",
    "# System settings\n",
    "nu = 1\n",
    "ny = 1\n",
    "#seq_len = 600\n",
    "batch_size = 50 # 256\n",
    "\n",
    "# Compute settings\n",
    "cuda_device = \"cuda:0\"\n",
    "no_cuda = False\n",
    "threads = 10\n",
    "compile = False\n",
    "\n",
    "# Configure compute\n",
    "torch.set_num_threads(threads) \n",
    "use_cuda = not no_cuda and torch.cuda.is_available()\n",
    "device_name  = cuda_device if use_cuda else \"cpu\"\n",
    "device = torch.device(device_name)\n",
    "device_type = 'cuda' if 'cuda' in device_name else 'cpu' # for later use in torch.autocast\n",
    "torch.set_float32_matmul_precision(\"high\")\n",
    "#torch.backends.cuda.matmul.allow_tf32 = True # allow tf32 on matmul\n",
    "#torch.backends.cudnn.allow_tf32 = True # allow tf32 on cudnn"
   ],
   "outputs": [],
   "execution_count": 5
  },
  {
   "metadata": {
    "ExecuteTime": {
     "end_time": "2024-08-29T17:55:51.692837Z",
     "start_time": "2024-08-29T17:55:51.684478Z"
    }
   },
   "cell_type": "code",
   "source": "torch.cuda.is_available()",
   "id": "4abe4c4e9fde259c",
   "outputs": [
    {
     "data": {
      "text/plain": [
       "True"
      ]
     },
     "execution_count": 6,
     "metadata": {},
     "output_type": "execute_result"
    }
   ],
   "execution_count": 6
  },
  {
   "cell_type": "code",
   "id": "69ad2d3e",
   "metadata": {
    "ExecuteTime": {
     "end_time": "2024-08-29T17:55:51.917598Z",
     "start_time": "2024-08-29T17:55:51.693841Z"
    }
   },
   "source": [
    "# Create out dir\n",
    "out_dir = Path(out_dir)\n",
    "exp_data = torch.load(out_dir/\"ckpt_onestep_evaporation_v1.pt\", map_location=device)"
   ],
   "outputs": [],
   "execution_count": 7
  },
  {
   "metadata": {
    "ExecuteTime": {
     "end_time": "2024-08-29T17:55:51.921693Z",
     "start_time": "2024-08-29T17:55:51.918604Z"
    }
   },
   "cell_type": "code",
   "source": [
    "seq_len = exp_data[\"cfg\"].seq_len\n",
    "nx = exp_data[\"cfg\"].nx"
   ],
   "id": "0c029f10",
   "outputs": [],
   "execution_count": 8
  },
  {
   "metadata": {
    "ExecuteTime": {
     "end_time": "2024-08-29T17:55:51.929187Z",
     "start_time": "2024-08-29T17:55:51.922700Z"
    }
   },
   "cell_type": "code",
   "source": "# del exp_data[\"model_args\"]['use_pi']",
   "id": "5a19bddafa792798",
   "outputs": [],
   "execution_count": 9
  },
  {
   "cell_type": "code",
   "id": "34332c1a",
   "metadata": {
    "ExecuteTime": {
     "end_time": "2024-08-29T17:55:51.957472Z",
     "start_time": "2024-08-29T17:55:51.930192Z"
    }
   },
   "source": [
    "model_args = exp_data[\"model_args\"]\n",
    "# model_args['use_p'] = True\n",
    "# model_args['use_i'] = True\n",
    "# model_args['use_d'] = False\n",
    "gptconf = GPTConfig(**model_args)\n",
    "model_CL = GPTClosedLoop(gptconf).to(device)\n",
    "\n",
    "state_dict = exp_data[\"model\"]\n",
    "unwanted_prefix = '_orig_mod.'\n",
    "for k,v in list(state_dict.items()):\n",
    "    if k.startswith(unwanted_prefix):\n",
    "        state_dict[k[len(unwanted_prefix):]] = state_dict.pop(k)\n",
    "model_CL.load_state_dict(state_dict)\n",
    "model = model_CL.gpt_model"
   ],
   "outputs": [
    {
     "name": "stdout",
     "output_type": "stream",
     "text": [
      "number of parameters: 0.10M\n"
     ]
    }
   ],
   "execution_count": 10
  },
  {
   "metadata": {
    "ExecuteTime": {
     "end_time": "2024-08-29T17:55:51.962911Z",
     "start_time": "2024-08-29T17:55:51.958480Z"
    }
   },
   "cell_type": "code",
   "source": "exp_data.keys()",
   "id": "74988fda1ac91ce9",
   "outputs": [
    {
     "data": {
      "text/plain": [
       "dict_keys(['model', 'optimizer', 'model_args', 'iter_num', 'train_time', 'LOSS', 'LOSS_VAL', 'best_val_loss', 'cfg'])"
      ]
     },
     "execution_count": 11,
     "metadata": {},
     "output_type": "execute_result"
    }
   ],
   "execution_count": 11
  },
  {
   "metadata": {
    "ExecuteTime": {
     "end_time": "2024-08-29T17:55:51.969492Z",
     "start_time": "2024-08-29T17:55:51.963917Z"
    }
   },
   "cell_type": "code",
   "source": "exp_data['best_val_loss']",
   "id": "c021172801ba02f8",
   "outputs": [
    {
     "data": {
      "text/plain": [
       "141.46987915039062"
      ]
     },
     "execution_count": 12,
     "metadata": {},
     "output_type": "execute_result"
    }
   ],
   "execution_count": 12
  },
  {
   "metadata": {
    "ExecuteTime": {
     "end_time": "2024-08-29T17:55:52.169800Z",
     "start_time": "2024-08-29T17:55:51.970498Z"
    }
   },
   "cell_type": "code",
   "source": [
    "plt.plot(exp_data['LOSS'])\n",
    "plt.plot(exp_data['LOSS_VAL'])\n",
    "# plt.xlim([0, 2000])"
   ],
   "id": "c9969b48090f2c1b",
   "outputs": [
    {
     "data": {
      "text/plain": [
       "[<matplotlib.lines.Line2D at 0x1b18d2cba10>]"
      ]
     },
     "execution_count": 13,
     "metadata": {},
     "output_type": "execute_result"
    },
    {
     "data": {
      "text/plain": [
       "<Figure size 640x480 with 1 Axes>"
      ],
      "image/png": "[encoded data removed]"
     },
     "metadata": {},
     "output_type": "display_data"
    }
   ],
   "execution_count": 13
  },
  {
   "metadata": {
    "ExecuteTime": {
     "end_time": "2024-08-29T17:55:52.176316Z",
     "start_time": "2024-08-29T17:55:52.171804Z"
    }
   },
   "cell_type": "code",
   "source": "exp_data['train_time'] / 3600",
   "id": "9da4e0176fa4c873",
   "outputs": [
    {
     "data": {
      "text/plain": [
       "1.7931867450475694"
      ]
     },
     "execution_count": 14,
     "metadata": {},
     "output_type": "execute_result"
    }
   ],
   "execution_count": 14
  },
  {
   "metadata": {
    "ExecuteTime": {
     "end_time": "2024-08-29T17:55:54.063601Z",
     "start_time": "2024-08-29T17:55:52.176842Z"
    }
   },
   "cell_type": "code",
   "source": [
    "from control_torch import drss, set_seed, forced_response, tf2ss, c2d, drss_matrices\n",
    "set_seed(42) \n",
    "\n",
    "seq_len = 300  \n",
    "nx = 2\n",
    "nu = 1\n",
    "ny = 1\n",
    " \n",
    "# define settings\n",
    "ts = 1  \n",
    "\n",
    "# define nominal model\n",
    "G = drss_matrices(nx, nu, ny, device=device)"
   ],
   "id": "ef51add4403cf6bd",
   "outputs": [],
   "execution_count": 15
  },
  {
   "metadata": {
    "ExecuteTime": {
     "end_time": "2024-08-29T17:55:54.202550Z",
     "start_time": "2024-08-29T17:55:54.064608Z"
    }
   },
   "cell_type": "code",
   "source": [
    "from signals_torch import steps_sequence\n",
    "\n",
    "T = 100\n",
    "t = torch.arange(0, T, ts, device=device, dtype=torch.float32).view(-1, 1)\n",
    "r = torch.zeros((T,2), device=device, dtype=torch.float32)\n",
    "\n",
    "r[:,0] = steps_sequence(T, ts, 20, 25, 20, 50).T\n",
    "r[:,1] = steps_sequence(T, ts, 40, 60, 20, 50).T\n",
    "\n",
    "\n",
    "y_d = r\n",
    "\n",
    "plt.plot(t.cpu().numpy(), r.cpu().numpy())\n",
    "plt.plot(t.cpu().numpy(), y_d.cpu().numpy())"
   ],
   "id": "b86707e8821d0dce",
   "outputs": [
    {
     "data": {
      "text/plain": [
       "[<matplotlib.lines.Line2D at 0x1b19f3ced90>,\n",
       " <matplotlib.lines.Line2D at 0x1b19f3cf6d0>]"
      ]
     },
     "execution_count": 16,
     "metadata": {},
     "output_type": "execute_result"
    },
    {
     "data": {
      "text/plain": [
       "<Figure size 640x480 with 1 Axes>"
      ],
      "image/png": "[encoded data removed]"
     },
     "metadata": {},
     "output_type": "display_data"
    }
   ],
   "execution_count": 16
  },
  {
   "metadata": {
    "ExecuteTime": {
     "end_time": "2024-08-29T17:55:54.212825Z",
     "start_time": "2024-08-29T17:55:54.203555Z"
    }
   },
   "cell_type": "code",
   "source": [
    "print(model.proportional_coefficient)\n",
    "print(model.integral_coefficient)\n",
    "print(model.derivative_coefficient)"
   ],
   "id": "a5aa0b623c311257",
   "outputs": [
    {
     "name": "stdout",
     "output_type": "stream",
     "text": [
      "Parameter containing:\n",
      "tensor([1.0962], device='cuda:0', requires_grad=True)\n",
      "Parameter containing:\n",
      "tensor([1.0931], device='cuda:0', requires_grad=True)\n",
      "Parameter containing:\n",
      "tensor([1.0897], device='cuda:0', requires_grad=True)\n"
     ]
    }
   ],
   "execution_count": 17
  },
  {
   "metadata": {
    "ExecuteTime": {
     "end_time": "2024-08-29T17:55:54.987408Z",
     "start_time": "2024-08-29T17:55:54.213831Z"
    }
   },
   "cell_type": "code",
   "source": [
    "from evaporation_process import problem_data, dynamics\n",
    "import pickle as pkl\n",
    "H = 100\n",
    "\n",
    "data = problem_data(0)\n",
    "\n",
    "n_test = 1    \n",
    "E_log = np.zeros((n_test, len(t), 2))\n",
    "U_log = np.zeros((n_test, len(t), 2))\n",
    "Y_log = np.zeros((n_test, len(t), 2))\n",
    "\n",
    "for key in range(n_test):\n",
    "    \n",
    "    E = torch.empty((n_test, len(t), 2), device=device, dtype=torch.float32)\n",
    "    U = torch.empty((n_test, len(t)+1, 2), device=device, dtype=torch.float32)\n",
    "    Y = torch.empty((n_test, len(t), 2), device=device, dtype=torch.float32)\n",
    "    \n",
    "    with torch.no_grad():\n",
    "        # initial\n",
    "        U[0, 0, :] = 0\n",
    "        y_i = torch.tensor([25, 49.743], device=device, dtype=torch.float32).unsqueeze(0).repeat(1, 1)\n",
    "        x_i = y_i.clone()\n",
    "        \n",
    "        for i in range(len(t)):\n",
    "            \n",
    "            # print('time instant:', i)\n",
    "            # start the loop with error\n",
    "            e_i = r[i] - y_i\n",
    "\n",
    "            Y[0,i,:] = y_i\n",
    "            E[0,i,:] = e_i\n",
    "            \n",
    "            # Controller u(t) = C(e(t),u(t-1))\n",
    "            if i < H:\n",
    "                pred = model(E[:, :i+1, :], U[:, :i+1, :])\n",
    "            else:\n",
    "                pred = model(E[:, i-H+1:i+1, :], U[:, i-H+1:i+1, :])\n",
    "                \n",
    "            U[:, i+1, :] = pred[:,-1,:]  # Just for coherence\n",
    "\n",
    "            # Simulate system response\n",
    "            x_dot = dynamics(x_i[0], U[0, i+1, :], *data)\n",
    "            # Integrate dynamics using forward Euler integration\n",
    "            y_i = x_i + ts * x_dot\n",
    "            x_i = y_i.clone()\n",
    "            \n",
    "    E_log[key] = E[0,:,:].cpu().numpy()\n",
    "    U_log[key] = U[0,1:,:].cpu().numpy()\n",
    "    Y_log[key] = Y[0,:,:].cpu().numpy()\n",
    "    \n",
    "    if key == n_test-1:\n",
    "        break"
   ],
   "id": "675a2901cb94884a",
   "outputs": [
    {
     "name": "stdout",
     "output_type": "stream",
     "text": [
      "tensor([0.1216], device='cuda:0')\n",
      "tensor([0.2604], device='cuda:0')\n",
      "tensor([0.3271], device='cuda:0')\n",
      "tensor([0.3365], device='cuda:0')\n",
      "tensor([0.3271], device='cuda:0')\n",
      "tensor([0.3090], device='cuda:0')\n",
      "tensor([0.2826], device='cuda:0')\n",
      "tensor([0.2568], device='cuda:0')\n",
      "tensor([0.2293], device='cuda:0')\n",
      "tensor([0.2029], device='cuda:0')\n",
      "tensor([0.1785], device='cuda:0')\n",
      "tensor([0.1544], device='cuda:0')\n",
      "tensor([0.1312], device='cuda:0')\n",
      "tensor([0.1099], device='cuda:0')\n",
      "tensor([0.0900], device='cuda:0')\n",
      "tensor([0.0718], device='cuda:0')\n",
      "tensor([0.0538], device='cuda:0')\n",
      "tensor([0.0373], device='cuda:0')\n",
      "tensor([0.0227], device='cuda:0')\n",
      "tensor([0.0071], device='cuda:0')\n",
      "tensor([-0.0052], device='cuda:0')\n",
      "tensor([-0.0167], device='cuda:0')\n",
      "tensor([-0.0291], device='cuda:0')\n",
      "tensor([-0.0389], device='cuda:0')\n",
      "tensor([-0.0490], device='cuda:0')\n",
      "tensor([-0.0572], device='cuda:0')\n",
      "tensor([-0.0661], device='cuda:0')\n",
      "tensor([-0.0729], device='cuda:0')\n",
      "tensor([-0.0800], device='cuda:0')\n",
      "tensor([-0.0863], device='cuda:0')\n",
      "tensor([-0.0919], device='cuda:0')\n",
      "tensor([-0.0965], device='cuda:0')\n",
      "tensor([-0.1012], device='cuda:0')\n",
      "tensor([-0.1055], device='cuda:0')\n",
      "tensor([-0.1090], device='cuda:0')\n",
      "tensor([-0.1127], device='cuda:0')\n",
      "tensor([-0.1148], device='cuda:0')\n",
      "tensor([-0.1182], device='cuda:0')\n",
      "tensor([-0.1196], device='cuda:0')\n",
      "tensor([-0.1220], device='cuda:0')\n",
      "tensor([-0.1235], device='cuda:0')\n",
      "tensor([-0.1249], device='cuda:0')\n",
      "tensor([-0.1262], device='cuda:0')\n",
      "tensor([-0.1263], device='cuda:0')\n",
      "tensor([-0.1273], device='cuda:0')\n",
      "tensor([-0.1277], device='cuda:0')\n",
      "tensor([-0.1281], device='cuda:0')\n",
      "tensor([-0.1281], device='cuda:0')\n",
      "tensor([-0.1282], device='cuda:0')\n",
      "tensor([-0.1283], device='cuda:0')\n",
      "tensor([-0.1279], device='cuda:0')\n",
      "tensor([-0.1270], device='cuda:0')\n",
      "tensor([-0.1269], device='cuda:0')\n",
      "tensor([-0.1260], device='cuda:0')\n",
      "tensor([-0.1258], device='cuda:0')\n",
      "tensor([-0.1246], device='cuda:0')\n",
      "tensor([-0.1237], device='cuda:0')\n",
      "tensor([-0.1229], device='cuda:0')\n",
      "tensor([-0.1226], device='cuda:0')\n",
      "tensor([-0.1216], device='cuda:0')\n",
      "tensor([-0.1204], device='cuda:0')\n",
      "tensor([-0.1194], device='cuda:0')\n",
      "tensor([-0.1183], device='cuda:0')\n",
      "tensor([-0.1174], device='cuda:0')\n",
      "tensor([-0.1161], device='cuda:0')\n",
      "tensor([-0.1148], device='cuda:0')\n",
      "tensor([-0.1137], device='cuda:0')\n",
      "tensor([-0.1122], device='cuda:0')\n",
      "tensor([-0.1108], device='cuda:0')\n",
      "tensor([-0.1099], device='cuda:0')\n",
      "tensor([-0.1085], device='cuda:0')\n",
      "tensor([-0.1068], device='cuda:0')\n",
      "tensor([-0.1055], device='cuda:0')\n",
      "tensor([-0.1041], device='cuda:0')\n",
      "tensor([-0.1027], device='cuda:0')\n",
      "tensor([-0.1014], device='cuda:0')\n",
      "tensor([-0.0997], device='cuda:0')\n",
      "tensor([-0.0981], device='cuda:0')\n",
      "tensor([-0.0971], device='cuda:0')\n",
      "tensor([-0.0946], device='cuda:0')\n",
      "tensor([-0.0932], device='cuda:0')\n",
      "tensor([-0.0916], device='cuda:0')\n",
      "tensor([-0.0900], device='cuda:0')\n",
      "tensor([-0.0884], device='cuda:0')\n",
      "tensor([-0.0866], device='cuda:0')\n",
      "tensor([-0.0856], device='cuda:0')\n",
      "tensor([-0.0837], device='cuda:0')\n",
      "tensor([-0.0824], device='cuda:0')\n",
      "tensor([-0.0808], device='cuda:0')\n",
      "tensor([-0.0793], device='cuda:0')\n",
      "tensor([-0.0780], device='cuda:0')\n",
      "tensor([-0.0765], device='cuda:0')\n",
      "tensor([-0.0752], device='cuda:0')\n",
      "tensor([-0.0739], device='cuda:0')\n",
      "tensor([-0.0724], device='cuda:0')\n",
      "tensor([-0.0710], device='cuda:0')\n",
      "tensor([-0.0700], device='cuda:0')\n",
      "tensor([-0.0686], device='cuda:0')\n",
      "tensor([-0.0674], device='cuda:0')\n",
      "tensor([-0.0660], device='cuda:0')\n"
     ]
    }
   ],
   "execution_count": 18
  },
  {
   "metadata": {
    "ExecuteTime": {
     "end_time": "2024-08-29T17:55:55.590421Z",
     "start_time": "2024-08-29T17:55:54.988413Z"
    }
   },
   "cell_type": "code",
   "source": [
    "fig = plt.figure(figsize=(10, 5))\n",
    "ax1 = plt.subplot(221)\n",
    "#plt.plot(t_CL, r)\n",
    "plt.plot(t.cpu().numpy(), r[:,0].cpu().numpy(), label=\"$r$\", c='k', linewidth=1)\n",
    "plt.plot(t.cpu().numpy(), Y_log[0,:,0].T, c='tab:blue', alpha=.3)\n",
    "plt.legend(['$r_1$','$y_1$'], loc='upper right')\n",
    "# plt.xlim([0, 0.43])\n",
    "# plt.ylim([0, 10])\n",
    "plt.tick_params('x', labelbottom=False)\n",
    "\n",
    "ax2 = plt.subplot(223, sharex=ax1)\n",
    "plt.plot(t.cpu().numpy(), r[:,1].cpu().numpy(), label=\"$r$\", c='k', linewidth=1)\n",
    "plt.plot(t.cpu().numpy(), Y_log[0,:,1].T, c='tab:blue', alpha=.3)\n",
    "plt.legend(['$r_2$','$y_2$'], loc='upper right')\n",
    "plt.xlabel('$t$ [s]')\n",
    "# plt.xlim([10, 12])\n",
    "\n",
    "\n",
    "ax3 = plt.subplot(222, sharex=ax1)\n",
    "plt.plot(t.cpu().numpy(), U_log[0,:,0].T, c='tab:blue', alpha=.3)\n",
    "# plt.ylim([0, 4])\n",
    "plt.legend(['$u_1$'], loc='upper right')\n",
    "plt.tick_params('x', labelbottom=False)\n",
    "\n",
    "ax3 = plt.subplot(224, sharex=ax1)\n",
    "plt.plot(t.cpu().numpy(), U_log[0,:,1].T, c='tab:blue', alpha=.3)\n",
    "plt.xlabel('$t$ [s]')\n",
    "# plt.ylim([0, 4])\n",
    "plt.legend(['$u_2$'], loc='upper right')\n",
    "\n",
    "# plt.savefig('transformer_controller.pdf')\n",
    "# Improve the layout to avoid overlapping\n",
    "plt.tight_layout()\n",
    "\n",
    "plt.show()"
   ],
   "id": "e38964c9e3150788",
   "outputs": [
    {
     "data": {
      "text/plain": [
       "<Figure size 1000x500 with 4 Axes>"
      ],
      "image/png": "[encoded data removed]"
     },
     "metadata": {},
     "output_type": "display_data"
    }
   ],
   "execution_count": 19
  },
  {
   "metadata": {
    "ExecuteTime": {
     "end_time": "2024-08-29T16:17:15.712483Z",
     "start_time": "2024-08-29T16:17:15.709958Z"
    }
   },
   "cell_type": "code",
   "source": " ",
   "id": "5f1e13bdb3fcb36b",
   "outputs": [],
   "execution_count": 20
  }
 ],
 "metadata": {
  "kernelspec": {
   "display_name": "Python 3 (ipykernel)",
   "language": "python",
   "name": "python3"
  },
  "language_info": {
   "codemirror_mode": {
    "name": "ipython",
    "version": 3
   },
   "file_extension": ".py",
   "mimetype": "text/x-python",
   "name": "python",
   "nbconvert_exporter": "python",
   "pygments_lexer": "ipython3",
   "version": "3.11.0"
  }
 },
 "nbformat": 4,
 "nbformat_minor": 5
}
