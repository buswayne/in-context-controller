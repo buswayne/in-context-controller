{
 "cells": [
  {
   "metadata": {
    "ExecuteTime": {
     "end_time": "2024-09-02T15:44:47.215383Z",
     "start_time": "2024-09-02T15:44:47.212181Z"
    }
   },
   "cell_type": "code",
   "source": [
    "# plt.rcParams['pdf.fonttype'] = 42\n",
    "# plt.rcParams['ps.fonttype'] = 42\n",
    "# plt.rcParams[\"font.family\"] = \"Times New Roman\"\n",
    "# plt.rcParams[\"mathtext.fontset\"] = \"cm\"\n",
    "# plt.rcParams['axes.labelsize']=14\n",
    "# plt.rcParams['xtick.labelsize']=11\n",
    "# plt.rcParams['ytick.labelsize']=11\n",
    "\n",
    "# plt.rcParams['axes.grid']=True\n",
    "# plt.rcParams['axes.xmargin']=0"
   ],
   "id": "f1843b5eb255e7ec",
   "outputs": [],
   "execution_count": 145
  },
  {
   "cell_type": "code",
   "id": "df653a7d",
   "metadata": {
    "ExecuteTime": {
     "end_time": "2024-09-02T15:44:47.244061Z",
     "start_time": "2024-09-02T15:44:47.239932Z"
    }
   },
   "source": [
    "from pathlib import Path\n",
    "import time\n",
    "import torch\n",
    "import numpy as np\n",
    "\n",
    "from torch.utils.data import DataLoader\n",
    "import matplotlib.pyplot as plt\n",
    "from transformer_onestep import GPTConfig, GPT\n",
    "from transformer_onestep_CL import GPTClosedLoop\n",
    "\n",
    "import argparse"
   ],
   "outputs": [],
   "execution_count": 146
  },
  {
   "cell_type": "code",
   "id": "e4a8b43d",
   "metadata": {
    "ExecuteTime": {
     "end_time": "2024-09-02T15:44:47.279621Z",
     "start_time": "2024-09-02T15:44:47.275594Z"
    }
   },
   "source": [
    "fig_path = Path(\"fig\")\n",
    "fig_path.mkdir(exist_ok=True)"
   ],
   "outputs": [],
   "execution_count": 147
  },
  {
   "cell_type": "code",
   "id": "1d446d6d",
   "metadata": {
    "ExecuteTime": {
     "end_time": "2024-09-02T15:44:47.284080Z",
     "start_time": "2024-09-02T15:44:47.280626Z"
    }
   },
   "source": [
    "# Fix all random sources to make script fully reproducible\n",
    "#torch.manual_seed(420)\n",
    "#np.random.seed(430)\n",
    "system_seed = 430 # Controls the system generation\n",
    "data_seed = 0 # Control the input generation"
   ],
   "outputs": [],
   "execution_count": 148
  },
  {
   "cell_type": "code",
   "id": "6a235fd7",
   "metadata": {
    "ExecuteTime": {
     "end_time": "2024-09-02T15:44:47.300817Z",
     "start_time": "2024-09-02T15:44:47.296616Z"
    }
   },
   "source": [
    "# Overall settings\n",
    "out_dir = \"out\"\n",
    "\n",
    "# System settings\n",
    "nu = 1\n",
    "ny = 1\n",
    "#seq_len = 600\n",
    "batch_size = 50 # 256\n",
    "\n",
    "# Compute settings\n",
    "cuda_device = \"cuda:0\"\n",
    "no_cuda = False\n",
    "threads = 10\n",
    "compile = False\n",
    "\n",
    "# Configure compute\n",
    "torch.set_num_threads(threads) \n",
    "use_cuda = not no_cuda and torch.cuda.is_available()\n",
    "device_name  = cuda_device if use_cuda else \"cpu\"\n",
    "device = torch.device(device_name)\n",
    "device_type = 'cuda' if 'cuda' in device_name else 'cpu' # for later use in torch.autocast\n",
    "torch.set_float32_matmul_precision(\"high\")\n",
    "#torch.backends.cuda.matmul.allow_tf32 = True # allow tf32 on matmul\n",
    "#torch.backends.cudnn.allow_tf32 = True # allow tf32 on cudnn"
   ],
   "outputs": [],
   "execution_count": 149
  },
  {
   "metadata": {
    "ExecuteTime": {
     "end_time": "2024-09-02T15:44:47.306568Z",
     "start_time": "2024-09-02T15:44:47.301822Z"
    }
   },
   "cell_type": "code",
   "source": [
    "torch.cuda.is_available()"
   ],
   "id": "4abe4c4e9fde259c",
   "outputs": [
    {
     "data": {
      "text/plain": [
       "True"
      ]
     },
     "execution_count": 150,
     "metadata": {},
     "output_type": "execute_result"
    }
   ],
   "execution_count": 150
  },
  {
   "cell_type": "code",
   "id": "69ad2d3e",
   "metadata": {
    "ExecuteTime": {
     "end_time": "2024-09-02T15:44:47.419745Z",
     "start_time": "2024-09-02T15:44:47.320093Z"
    }
   },
   "source": [
    "# Create out dir\n",
    "out_dir = Path(out_dir)\n",
    "exp_data = torch.load(out_dir/\"ckpt_onestep_wh_try3.10.pt\", map_location=device)"
   ],
   "outputs": [],
   "execution_count": 151
  },
  {
   "metadata": {
    "ExecuteTime": {
     "end_time": "2024-09-02T15:44:47.423537Z",
     "start_time": "2024-09-02T15:44:47.420751Z"
    }
   },
   "cell_type": "code",
   "source": [
    "seq_len = exp_data[\"cfg\"].seq_len\n",
    "nx = exp_data[\"cfg\"].nx"
   ],
   "id": "0c029f10",
   "outputs": [],
   "execution_count": 152
  },
  {
   "metadata": {
    "ExecuteTime": {
     "end_time": "2024-09-02T15:44:47.428614Z",
     "start_time": "2024-09-02T15:44:47.424542Z"
    }
   },
   "cell_type": "code",
   "source": [
    "# del exp_data[\"model_args\"]['use_pi']"
   ],
   "id": "5a19bddafa792798",
   "outputs": [],
   "execution_count": 153
  },
  {
   "cell_type": "code",
   "id": "34332c1a",
   "metadata": {
    "ExecuteTime": {
     "end_time": "2024-09-02T15:44:47.448850Z",
     "start_time": "2024-09-02T15:44:47.429619Z"
    }
   },
   "source": [
    "model_args = exp_data[\"model_args\"]\n",
    "# model_args['use_p'] = True\n",
    "# model_args['use_i'] = True\n",
    "# model_args['use_d'] = False\n",
    "gptconf = GPTConfig(**model_args)\n",
    "model_CL = GPTClosedLoop(gptconf).to(device)\n",
    "\n",
    "state_dict = exp_data[\"model\"]\n",
    "unwanted_prefix = '_orig_mod.'\n",
    "for k,v in list(state_dict.items()):\n",
    "    if k.startswith(unwanted_prefix):\n",
    "        state_dict[k[len(unwanted_prefix):]] = state_dict.pop(k)\n",
    "model_CL.load_state_dict(state_dict)\n",
    "model = model_CL.gpt_model"
   ],
   "outputs": [
    {
     "name": "stdout",
     "output_type": "stream",
     "text": [
      "number of parameters: 0.11M\n"
     ]
    }
   ],
   "execution_count": 154
  },
  {
   "cell_type": "code",
   "source": [
    "print(f\"Best validation loss: {exp_data['best_val_loss']}\")"
   ],
   "metadata": {
    "collapsed": false,
    "ExecuteTime": {
     "end_time": "2024-09-02T15:44:47.453241Z",
     "start_time": "2024-09-02T15:44:47.449855Z"
    }
   },
   "id": "a0fb99ead64fe8ad",
   "outputs": [
    {
     "name": "stdout",
     "output_type": "stream",
     "text": [
      "Best validation loss: 0.01257436815649271\n"
     ]
    }
   ],
   "execution_count": 155
  },
  {
   "metadata": {
    "ExecuteTime": {
     "end_time": "2024-09-02T15:44:49.885506Z",
     "start_time": "2024-09-02T15:44:47.454246Z"
    }
   },
   "cell_type": "code",
   "source": [
    "from control_torch import drss, set_seed, forced_response, tf2ss, c2d, perturb_matrices, perturb_parameters\n",
    "batch_r_test = 20\n",
    "\n",
    "\n",
    "T = 5\n",
    "ts = 1e-2\n",
    "t = torch.arange(0, T, ts, device=device, dtype=torch.float32).view(-1, 1)\n",
    "\n",
    "R = torch.zeros([batch_r_test, len(t)], device=device, dtype=torch.float32)\n",
    "\n",
    "# for j in range(batch_r_test):\n",
    "#     r = torch.ones_like(t, device=device, dtype=torch.float32)\n",
    "#     r[t < 1] = np.random.choice(np.arange(-10,10,.5))\n",
    "#     r[(t >= 2) & (t < 3.5)] = np.random.choice(np.arange(-10,10,.5))\n",
    "#     r[(t >= 3.5) & (t < 4)] = np.random.choice(np.arange(-10,10,.5))\n",
    "#     r[(t >= 4) & (t < 5)] = np.random.choice(np.arange(-10,10,.5))\n",
    "#     R[j] = r.reshape(-1)\n",
    "    \n",
    "r = torch.ones_like(t, device=device, dtype=torch.float32)\n",
    "r[t < 1] = np.random.choice(np.arange(-10,10,.5))\n",
    "r[(t >= 2) & (t < 3.5)] = np.random.choice(np.arange(-10,10,.5))\n",
    "r[(t >= 3.5) & (t < 4)] = np.random.choice(np.arange(-10,10,.5))\n",
    "r[(t >= 4) & (t < 5)] = np.random.choice(np.arange(-10,10,.5))\n",
    "\n",
    "for j in range(batch_r_test):\n",
    "    R[j] = r.reshape(-1)\n",
    "\n",
    "tau = 1\n",
    "M_num = torch.tensor([0.01, 1], device=device, dtype=torch.float32)  # Numerator coefficients\n",
    "M_den = torch.tensor([tau/4, 1], device=device, dtype=torch.float32)  # Denominator coefficients\n",
    "M = tf2ss(M_num, M_den, device=device)\n",
    "M_d = c2d(*M, ts, device=device)\n",
    "\n",
    "Y_D = torch.zeros([batch_r_test, len(t)], device=device, dtype=torch.float32)\n",
    "for j in range(batch_r_test):\n",
    "    y_d = forced_response(*M_d, R[j].reshape(-1,1))\n",
    "    Y_D[j] = y_d.reshape(-1)\n",
    "\n",
    "plt.plot(t.cpu().numpy(), R[0].cpu().numpy())\n",
    "plt.plot(t.cpu().numpy(), Y_D[0].cpu().numpy())"
   ],
   "id": "b86707e8821d0dce",
   "outputs": [
    {
     "data": {
      "text/plain": [
       "[<matplotlib.lines.Line2D at 0x236beefe410>]"
      ]
     },
     "execution_count": 156,
     "metadata": {},
     "output_type": "execute_result"
    },
    {
     "data": {
      "text/plain": [
       "<Figure size 640x480 with 1 Axes>"
      ],
      "image/png": "[encoded data removed]"
     },
     "metadata": {},
     "output_type": "display_data"
    }
   ],
   "execution_count": 156
  },
  {
   "cell_type": "code",
   "source": [
    "set_seed(42)\n",
    "perturb_percentage = 10\n",
    "seq_len = 300\n",
    "nx = 2\n",
    "nu = 1\n",
    "ny = 1\n",
    "\n",
    "# define settings\n",
    "n_in = 1\n",
    "n_out = 1\n",
    "n_hidden = 32\n",
    "# define nominal model\n",
    "G1_0 = drss(nx, nu, ny, device=device)\n",
    "G2_0 = drss(nx, nu, ny, device=device)\n",
    "w1_0 = torch.randn(n_hidden, n_in, device=device) / torch.sqrt(torch.tensor(n_in, dtype=torch.float32,device=device)) * (5 / 3)\n",
    "b1_0 = torch.randn(1, n_hidden, device=device) * 1.0\n",
    "w2_0 = torch.randn(n_out, n_hidden, device=device) / torch.sqrt(torch.tensor(n_hidden, dtype=torch.float32, device=device))\n",
    "b2_0 = torch.randn(1, n_out, device=device) * 1.0\n",
    "\n",
    "# G1 = perturb_matrices(*G1_0, percentage=perturb_percentage, device=device) #seems like this function 'cuts' small values\n",
    "# G2 = perturb_matrices(*G2_0, percentage=perturb_percentage, device=device) # if i want to get the same Gs as in dataset i \n",
    "# w1 = perturb_parameters(w1_0, perturb_percentage, device = device)\n",
    "# b1 = perturb_parameters(b1_0, perturb_percentage, device = device)\n",
    "# w2 = perturb_parameters(w2_0, perturb_percentage, device = device)\n",
    "# b2 = perturb_parameters(b2_0, perturb_percentage, device = device)"
   ],
   "metadata": {
    "ExecuteTime": {
     "end_time": "2024-09-02T15:44:49.894893Z",
     "start_time": "2024-09-02T15:44:49.886511Z"
    }
   },
   "id": "ef51add4403cf6bd",
   "outputs": [],
   "execution_count": 157
  },
  {
   "metadata": {
    "ExecuteTime": {
     "end_time": "2024-09-02T15:44:49.898782Z",
     "start_time": "2024-09-02T15:44:49.895914Z"
    }
   },
   "cell_type": "code",
   "source": [
    "# print(model.proportional_coefficient)\n",
    "# print(model.integral_coefficient)\n",
    "# print(model.derivative_coefficient)"
   ],
   "id": "a5aa0b623c311257",
   "outputs": [],
   "execution_count": 158
  },
  {
   "metadata": {
    "ExecuteTime": {
     "end_time": "2024-09-02T15:45:55.066871Z",
     "start_time": "2024-09-02T15:44:49.899787Z"
    }
   },
   "cell_type": "code",
   "source": [
    "H = 500\n",
    "def nn_fun(x,w1,b1,w2,b2):\n",
    "    out = x @ w1.T + b1\n",
    "    out = torch.tanh(out)\n",
    "    out = out @ w2.T + b2\n",
    "    return out\n",
    "\n",
    "YY = torch.zeros([batch_r_test,len(t)], device=device, dtype=torch.float32)\n",
    "\n",
    "for j in range(batch_r_test):    \n",
    "    G1 = perturb_matrices(*G1_0, percentage=perturb_percentage, device=device) #seems like this function 'cuts' small values\n",
    "    G2 = perturb_matrices(*G2_0, percentage=perturb_percentage, device=device) # if i want to get the same Gs as in dataset i \n",
    "    w1 = perturb_parameters(w1_0, perturb_percentage, device = device)\n",
    "    b1 = perturb_parameters(b1_0, perturb_percentage, device = device)\n",
    "    w2 = perturb_parameters(w2_0, perturb_percentage, device = device)\n",
    "    b2 = perturb_parameters(b2_0, perturb_percentage, device = device)\n",
    "\n",
    "    print('Reference n.',j)\n",
    "    E = torch.empty_like(t, device=device, dtype=torch.float32).reshape(1,-1,1)\n",
    "    U = torch.empty(t.size(0)+1, device=device, dtype=torch.float32).reshape(1,-1,1)\n",
    "    Y1 = torch.empty_like(t, device=device, dtype=torch.float32).reshape(1,-1,1)\n",
    "    Y2 = torch.empty_like(t, device=device, dtype=torch.float32).reshape(1,-1,1)\n",
    "    Y = torch.empty_like(t, device=device, dtype=torch.float32).reshape(1,-1,1)\n",
    "    \n",
    "    \n",
    "    with torch.no_grad():\n",
    "        # initial\n",
    "        U[0,0,0] = 0\n",
    "        y1_i = 0\n",
    "        y2_i = 0\n",
    "        y_i = 0\n",
    "        x1_i = torch.zeros(nx, device=device, dtype=torch.float32)\n",
    "        x2_i = torch.zeros(nx, device=device, dtype=torch.float32)\n",
    "        \n",
    "        for i in range(len(t)):\n",
    "            \n",
    "            if (i % 100 == 0) : print('time instant:', i)\n",
    "            # start the loop with error\n",
    "            # e_i = R[j,i] - y_i\n",
    "            e_i = Y_D[j,i] - y_i\n",
    "                \n",
    "            Y[0,i,0] = y_i\n",
    "            Y1[0,i,0] = y1_i # this could be useful for checks\n",
    "            Y2[0,i,0] = y2_i\n",
    "            E[0,i,0] = e_i\n",
    "            \n",
    "            # Controller u(t) = C(e(t),u(t-1))\n",
    "            if i < H:\n",
    "                pred = model(E[:, :i+1, :], U[:, :i+1, :])\n",
    "            else:\n",
    "                pred = model(E[:, i-H+1:i+1, :], U[:, i-H+1:i+1, :])\n",
    "                \n",
    "            U[0,i+1,0] = pred[0,-1,0] # just for coherence, it could be directly be u_i_prev\n",
    "            \n",
    "            ##LOOK OUT FOR NECESSARY RESHAPINGS\n",
    "            y1, x1_i = forced_response(*G1, U[0,i:i+2,:], return_x=True, x0=x1_i)\n",
    "            y1_i = y1[-1]\n",
    "            \n",
    "            y2 = nn_fun(y1_i,w1,b1,w2,b2)\n",
    "            y2_i = y2[-1]\n",
    "            \n",
    "            y2_i = y2_i.reshape(-1,1)\n",
    "            y, x2_i = forced_response(*G2, y2_i, return_x=True, x0=x2_i)\n",
    "            y_i = y[-1] * 7.5\n",
    "    YY[j] = Y[0,:,0]"
   ],
   "id": "675a2901cb94884a",
   "outputs": [
    {
     "name": "stdout",
     "output_type": "stream",
     "text": [
      "Reference n. 0\n",
      "time instant: 0\n",
      "time instant: 100\n",
      "time instant: 200\n",
      "time instant: 300\n",
      "time instant: 400\n",
      "Reference n. 1\n",
      "time instant: 0\n",
      "time instant: 100\n",
      "time instant: 200\n",
      "time instant: 300\n",
      "time instant: 400\n",
      "Reference n. 2\n",
      "time instant: 0\n",
      "time instant: 100\n",
      "time instant: 200\n",
      "time instant: 300\n",
      "time instant: 400\n",
      "Reference n. 3\n",
      "time instant: 0\n",
      "time instant: 100\n",
      "time instant: 200\n",
      "time instant: 300\n",
      "time instant: 400\n",
      "Reference n. 4\n",
      "time instant: 0\n",
      "time instant: 100\n",
      "time instant: 200\n",
      "time instant: 300\n",
      "time instant: 400\n",
      "Reference n. 5\n",
      "time instant: 0\n",
      "time instant: 100\n",
      "time instant: 200\n",
      "time instant: 300\n",
      "time instant: 400\n",
      "Reference n. 6\n",
      "time instant: 0\n",
      "time instant: 100\n",
      "time instant: 200\n",
      "time instant: 300\n",
      "time instant: 400\n",
      "Reference n. 7\n",
      "time instant: 0\n",
      "time instant: 100\n",
      "time instant: 200\n",
      "time instant: 300\n",
      "time instant: 400\n",
      "Reference n. 8\n",
      "time instant: 0\n",
      "time instant: 100\n",
      "time instant: 200\n",
      "time instant: 300\n",
      "time instant: 400\n",
      "Reference n. 9\n",
      "time instant: 0\n",
      "time instant: 100\n",
      "time instant: 200\n",
      "time instant: 300\n",
      "time instant: 400\n",
      "Reference n. 10\n",
      "time instant: 0\n",
      "time instant: 100\n",
      "time instant: 200\n",
      "time instant: 300\n",
      "time instant: 400\n",
      "Reference n. 11\n",
      "time instant: 0\n",
      "time instant: 100\n",
      "time instant: 200\n",
      "time instant: 300\n",
      "time instant: 400\n",
      "Reference n. 12\n",
      "time instant: 0\n",
      "time instant: 100\n",
      "time instant: 200\n",
      "time instant: 300\n",
      "time instant: 400\n",
      "Reference n. 13\n",
      "time instant: 0\n",
      "time instant: 100\n",
      "time instant: 200\n",
      "time instant: 300\n",
      "time instant: 400\n",
      "Reference n. 14\n",
      "time instant: 0\n",
      "time instant: 100\n",
      "time instant: 200\n",
      "time instant: 300\n",
      "time instant: 400\n",
      "Reference n. 15\n",
      "time instant: 0\n",
      "time instant: 100\n",
      "time instant: 200\n",
      "time instant: 300\n",
      "time instant: 400\n",
      "Reference n. 16\n",
      "time instant: 0\n",
      "time instant: 100\n",
      "time instant: 200\n",
      "time instant: 300\n",
      "time instant: 400\n",
      "Reference n. 17\n",
      "time instant: 0\n",
      "time instant: 100\n",
      "time instant: 200\n",
      "time instant: 300\n",
      "time instant: 400\n",
      "Reference n. 18\n",
      "time instant: 0\n",
      "time instant: 100\n",
      "time instant: 200\n",
      "time instant: 300\n",
      "time instant: 400\n",
      "Reference n. 19\n",
      "time instant: 0\n",
      "time instant: 100\n",
      "time instant: 200\n",
      "time instant: 300\n",
      "time instant: 400\n"
     ]
    }
   ],
   "execution_count": 159
  },
  {
   "cell_type": "code",
   "source": [
    "plt.rcParams['pdf.fonttype'] = 42\n",
    "plt.rcParams['ps.fonttype'] = 42\n",
    "plt.rcParams[\"font.family\"] = \"Times New Roman\"\n",
    "plt.rcParams[\"mathtext.fontset\"] = \"cm\"\n",
    "plt.rcParams['axes.labelsize']=14\n",
    "plt.rcParams['xtick.labelsize']=11\n",
    "plt.rcParams['ytick.labelsize']=11\n",
    "plt.rcParams['axes.grid']=True\n",
    "plt.rcParams['axes.xmargin']=0\n",
    "\n",
    "# cmap = plt.get_cmap('tab10')  # You can use any colormap you like\n",
    "# colors = [cmap(i) for i in range(batch_r_test)]\n",
    "# colors2 = ['b', 'r', 'g']\n",
    "\n",
    "plt.figure(figsize=(5, 3))\n",
    "\n",
    "plt.plot(t.cpu().numpy(), R[0].cpu().numpy(), label='$r$', c='k', alpha=1, linewidth=1)\n",
    "plt.plot(t.cpu().numpy(), YY[0].cpu().numpy(), c='tab:blue', alpha=.3, label='$y$')\n",
    "\n",
    "for i in range(1, batch_r_test):\n",
    "    # color = colors[i]\n",
    "    # color2 = colors2[i]\n",
    "    plt.plot(t.cpu().numpy(), YY[i].cpu().numpy(), c='tab:blue', alpha=.3, label='_nolegend_')\n",
    "\n",
    "plt.plot(t.cpu().numpy(), Y_D[0].cpu().numpy(), c='tab:red', alpha=1, linestyle='--', label='$y_d$')\n",
    "\n",
    "plt.xlabel('$t$ [s]')\n",
    "# plt.title('Desired Outputs (--) , and Simulations')\n",
    "# plt.ylim([-11, 11])\n",
    "plt.legend(['r','$y$','$y_d$'], loc='upper right', ncol=3)\n",
    "plt.grid(True)\n",
    "plt.tight_layout()\n",
    "plt.savefig('wh_test_1.pdf')\n",
    "plt.show()"
   ],
   "metadata": {
    "collapsed": false,
    "ExecuteTime": {
     "end_time": "2024-09-02T15:48:41.212741Z",
     "start_time": "2024-09-02T15:48:40.808275Z"
    }
   },
   "id": "4d8c0475a986848",
   "outputs": [
    {
     "name": "stderr",
     "output_type": "stream",
     "text": [
      "'created' timestamp seems very low; regarding as unix timestamp\n",
      "'modified' timestamp seems very low; regarding as unix timestamp\n"
     ]
    },
    {
     "data": {
      "text/plain": [
       "<Figure size 500x300 with 1 Axes>"
      ],
      "image/png": "[encoded data removed]"
     },
     "metadata": {},
     "output_type": "display_data"
    }
   ],
   "execution_count": 163
  },
  {
   "metadata": {
    "ExecuteTime": {
     "end_time": "2024-09-02T15:36:06.253091Z",
     "start_time": "2024-09-02T15:36:06.248587Z"
    }
   },
   "cell_type": "code",
   "source": "batch_r_test",
   "id": "8748d65810878316",
   "outputs": [
    {
     "data": {
      "text/plain": [
       "20"
      ]
     },
     "execution_count": 99,
     "metadata": {},
     "output_type": "execute_result"
    }
   ],
   "execution_count": 99
  },
  {
   "metadata": {
    "ExecuteTime": {
     "end_time": "2024-08-20T18:58:38.369298Z",
     "start_time": "2024-08-20T18:58:37.978978Z"
    }
   },
   "cell_type": "code",
   "source": [
    "## THIS PLOT REFERS TO THE LAST SAMPLE\n",
    "fig = plt.figure(figsize=(5, 5))\n",
    "ax1 = plt.subplot(311)\n",
    "#plt.plot(t_CL, r)\n",
    "plt.plot(t.cpu().numpy(), R[batch_r_test-1].cpu().numpy(), label=\"$r$\", c='tab:orange')\n",
    "plt.plot(t.cpu().numpy(), YY[batch_r_test-1].cpu().numpy(), label=\"$y$\", c='tab:blue', alpha=1)\n",
    "plt.plot(t.cpu().numpy(), Y_D[batch_r_test-1].cpu().numpy(), label=\"$y_d$\", c='tab:red', alpha=1, linestyle='--')\n",
    "plt.legend(['$r$','$y$','$y_d$'])\n",
    "# plt.xlim([0, 0.43])\n",
    "plt.ylim([-10, 10])\n",
    "plt.tick_params('x', labelbottom=False)\n",
    "\n",
    "ax2 = plt.subplot(312, sharex=ax1)\n",
    "plt.plot(t.cpu().numpy(), U[0,1:,0].cpu().numpy(), c='tab:blue', alpha=1)\n",
    "# plt.plot(t_CL[:-1], batch_u[0,1:,0] * u_std, c='tab:green', alpha=1)\n",
    "plt.legend(['$u$', '$u_{ideal}$'])\n",
    "# plt.xlim([10, 12])\n",
    "plt.tick_params('x', labelbottom=False)\n",
    "\n",
    "ax3 = plt.subplot(313, sharex=ax1)\n",
    "plt.plot(t.cpu().numpy(), E[0,:,0].cpu().numpy(), c='tab:blue', alpha=1)\n",
    "# plt.plot(t_CL, batch_e[0,:,0] * e_std, c='tab:green', alpha=1)\n",
    "plt.xlabel('$t$ [s]')\n",
    "# plt.ylim([0, 4])\n",
    "plt.legend(['$e$', '$e_{ideal}$'])\n",
    "\n",
    "# plt.savefig('transformer_controller.pdf')\n",
    "\n",
    "plt.show()"
   ],
   "id": "e38964c9e3150788",
   "outputs": [
    {
     "data": {
      "text/plain": "<Figure size 500x500 with 3 Axes>",
      "image/png": "[encoded data removed]"
     },
     "metadata": {},
     "output_type": "display_data"
    }
   ],
   "execution_count": 17
  },
  {
   "metadata": {
    "ExecuteTime": {
     "end_time": "2024-08-20T18:58:38.376524Z",
     "start_time": "2024-08-20T18:58:38.370516Z"
    }
   },
   "cell_type": "code",
   "source": [
    "##MEAN SQUARED ERROR\n",
    "MSE = np.zeros([batch_r_test,1])\n",
    "for j in range(batch_r_test) :\n",
    "    error = np.array(Y_D[j].cpu() - YY[j].cpu())\n",
    "    squared_error_sum = 0\n",
    "    for i in range(len(error)) :\n",
    "        squared_error_sum = squared_error_sum + (error[i]*error[i])\n",
    "    mse = squared_error_sum / len(error)\n",
    "    print('mse of simulation n. ',j ,':',mse)\n",
    "    MSE[j] = mse\n",
    "total_MSE = 0\n",
    "for j in range(batch_r_test) :\n",
    "    total_MSE += MSE[j]\n",
    "total_MSE = total_MSE / batch_r_test \n",
    "print('total MSE :', total_MSE)\n"
   ],
   "id": "5f1e13bdb3fcb36b",
   "outputs": [
    {
     "name": "stdout",
     "output_type": "stream",
     "text": [
      "mse of simulation n.  0 : nan\n",
      "mse of simulation n.  1 : nan\n",
      "mse of simulation n.  2 : nan\n",
      "total MSE : [nan]\n"
     ]
    }
   ],
   "execution_count": 18
  },
  {
   "cell_type": "code",
   "outputs": [],
   "source": [],
   "metadata": {
    "collapsed": false,
    "ExecuteTime": {
     "end_time": "2024-08-20T18:58:38.379370Z",
     "start_time": "2024-08-20T18:58:38.377512Z"
    }
   },
   "id": "9f5cb5f2599c899c",
   "execution_count": 18
  }
 ],
 "metadata": {
  "kernelspec": {
   "display_name": "Python 3 (ipykernel)",
   "language": "python",
   "name": "python3"
  },
  "language_info": {
   "codemirror_mode": {
    "name": "ipython",
    "version": 3
   },
   "file_extension": ".py",
   "mimetype": "text/x-python",
   "name": "python",
   "nbconvert_exporter": "python",
   "pygments_lexer": "ipython3",
   "version": "3.11.0"
  }
 },
 "nbformat": 4,
 "nbformat_minor": 5
}
