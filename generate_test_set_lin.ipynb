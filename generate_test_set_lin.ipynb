{
 "cells": [
  {
   "cell_type": "code",
   "outputs": [],
   "source": [
    "import torch\n",
    "import pickle\n",
    "from control_torch import drss, set_seed, forced_response, tf2ss, c2d, perturb_matrices\n",
    "import numpy as np"
   ],
   "metadata": {
    "collapsed": false
   },
   "id": "7d5524f4a3fa77b4",
   "execution_count": null
  },
  {
   "cell_type": "code",
   "outputs": [],
   "source": [
    "# Compute settings\n",
    "cuda_device = \"cuda:0\"\n",
    "no_cuda = False\n",
    "threads = 10\n",
    "compile = False\n",
    "\n",
    "# Configure compute\n",
    "torch.set_num_threads(threads) \n",
    "use_cuda = not no_cuda and torch.cuda.is_available()\n",
    "device_name  = cuda_device if use_cuda else \"cpu\"\n",
    "device = torch.device(device_name)\n",
    "device_type = 'cuda' if 'cuda' in device_name else 'cpu' # for later use in torch.autocast\n",
    "torch.set_float32_matmul_precision(\"high\")"
   ],
   "metadata": {
    "collapsed": true
   },
   "id": "initial_id",
   "execution_count": null
  },
  {
   "cell_type": "code",
   "outputs": [],
   "source": [
    "set_seed(42)\n",
    "nx, nu, ny = 2, 1, 1  # Example dimensions, modify as needed\n",
    "G_0 = drss(nx, nu, ny)\n",
    "perturb_percentage = 50"
   ],
   "metadata": {
    "collapsed": false
   },
   "id": "a4383f7897c684bf",
   "execution_count": null
  },
  {
   "cell_type": "code",
   "outputs": [],
   "source": [
    "G_0"
   ],
   "metadata": {
    "collapsed": false
   },
   "id": "f3dfba08c63eb9b3",
   "execution_count": null
  },
  {
   "cell_type": "code",
   "outputs": [],
   "source": [
    "# Generate a test set of 20 perturbed matrices\n",
    "test_set = []\n",
    "for _ in range(30):\n",
    "    perturbed_matrix = perturb_matrices(*G_0, percentage=perturb_percentage, device=device)\n",
    "    test_set.append(perturbed_matrix)\n",
    "\n",
    "# Save the test set using pickle\n",
    "with open('test_set_lin_1.pkl', 'wb') as f:\n",
    "    pickle.dump(test_set, f)\n",
    "\n",
    "print(\"Test set of perturbed matrices saved successfully.\")"
   ],
   "metadata": {
    "collapsed": false
   },
   "id": "a3e877cf2c55d2d8",
   "execution_count": null
  },
  {
   "cell_type": "code",
   "outputs": [],
   "source": [
    "import os\n",
    "\n",
    "file_path = 'test_set_lin_1.pkl'\n",
    "print(f\"File size: {os.path.getsize(file_path)} bytes\")"
   ],
   "metadata": {
    "collapsed": false
   },
   "id": "2a6c0461eaadc5cd",
   "execution_count": null
  },
  {
   "cell_type": "code",
   "outputs": [],
   "source": [
    "# Load the test set from the pickle file\n",
    "with open('test_set_lin_1.pkl', 'rb') as f:\n",
    "    test_set = pickle.load(f)"
   ],
   "metadata": {
    "collapsed": false
   },
   "id": "58b335600789dc21",
   "execution_count": null
  },
  {
   "cell_type": "code",
   "outputs": [],
   "source": [
    "from control_torch import drss, forced_response, tf2ss, c2d, perturb_matrices, set_seed, perturb_parameters\n",
    "from signals_torch import steps_sequence\n",
    "import matplotlib.pyplot as plt"
   ],
   "metadata": {
    "collapsed": false
   },
   "id": "b5bd84ebf6d27db2",
   "execution_count": null
  },
  {
   "cell_type": "code",
   "outputs": [],
   "source": [
    "## PLOT STEP RESPONSE TO ENSURE STABILITY\n",
    "Y = torch.empty((30, 500), device=device, dtype=torch.float32)\n",
    "x_i = torch.zeros((30, 2), device=device, dtype=torch.float32)\n",
    "u = torch.full((500,), 10, device=device, dtype=torch.float32)\n",
    "u = u.reshape(-1, 1)\n",
    "u[:50] = 0\n",
    "for j, system in enumerate(test_set):\n",
    "    y = forced_response(*system, u, x0=x_i[j])\n",
    "    if y.dim() == 2 and y.size(1) == 1:\n",
    "        y = y.squeeze(1)  # Remove the second dimension if it has size 1\n",
    "    Y[j] = y\n"
   ],
   "metadata": {
    "collapsed": false
   },
   "id": "ddb52954d0e77d82",
   "execution_count": null
  },
  {
   "cell_type": "code",
   "outputs": [],
   "source": [
    "plt.figure(figsize=(20, 10))  # Set the figure size\n",
    "for i in range(Y.shape[0]):\n",
    "    plt.plot(Y[i].cpu().numpy())\n",
    "\n",
    "plt.xlabel('Time Step')  # X-axis label\n",
    "plt.title('Responses of the test systems to a step')  # Title of the plot\n",
    "plt.legend()  # Show legend\n",
    "plt.grid(True)  \n",
    "plt.show()  # "
   ],
   "metadata": {
    "collapsed": false
   },
   "id": "89fa63e5da5b2f59",
   "execution_count": null
  },
  {
   "cell_type": "code",
   "outputs": [],
   "source": [],
   "metadata": {
    "collapsed": false
   },
   "id": "ab51f53a18204df1"
  }
 ],
 "metadata": {
  "kernelspec": {
   "display_name": "Python 3",
   "language": "python",
   "name": "python3"
  },
  "language_info": {
   "codemirror_mode": {
    "name": "ipython",
    "version": 2
   },
   "file_extension": ".py",
   "mimetype": "text/x-python",
   "name": "python",
   "nbconvert_exporter": "python",
   "pygments_lexer": "ipython2",
   "version": "2.7.6"
  }
 },
 "nbformat": 4,
 "nbformat_minor": 5
}
