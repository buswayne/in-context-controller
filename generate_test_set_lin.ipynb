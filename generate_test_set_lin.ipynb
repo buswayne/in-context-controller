{
 "cells": [
  {
   "cell_type": "code",
   "outputs": [],
   "source": [
    "import torch\n",
    "import pickle\n",
    "from control_torch import drss, set_seed, forced_response, tf2ss, c2d, perturb_matrices\n",
    "import numpy as np"
   ],
   "metadata": {
    "collapsed": false,
    "ExecuteTime": {
     "end_time": "2024-08-17T14:23:14.801853Z",
     "start_time": "2024-08-17T14:23:13.094029Z"
    }
   },
   "id": "7d5524f4a3fa77b4",
   "execution_count": 1
  },
  {
   "cell_type": "code",
   "outputs": [],
   "source": [
    "# Compute settings\n",
    "cuda_device = \"cuda:0\"\n",
    "no_cuda = False\n",
    "threads = 10\n",
    "compile = False\n",
    "\n",
    "# Configure compute\n",
    "torch.set_num_threads(threads) \n",
    "use_cuda = not no_cuda and torch.cuda.is_available()\n",
    "device_name  = cuda_device if use_cuda else \"cpu\"\n",
    "device = torch.device(device_name)\n",
    "device_type = 'cuda' if 'cuda' in device_name else 'cpu' # for later use in torch.autocast\n",
    "torch.set_float32_matmul_precision(\"high\")"
   ],
   "metadata": {
    "collapsed": true,
    "ExecuteTime": {
     "end_time": "2024-08-17T14:23:14.901244Z",
     "start_time": "2024-08-17T14:23:14.804351Z"
    }
   },
   "id": "initial_id",
   "execution_count": 2
  },
  {
   "cell_type": "code",
   "outputs": [],
   "source": [
    "set_seed(42)\n",
    "nx, nu, ny = 2, 1, 1  # Example dimensions, modify as needed\n",
    "G_0 = drss(nx, nu, ny)\n",
    "perturb_percentage = 50"
   ],
   "metadata": {
    "collapsed": false,
    "ExecuteTime": {
     "end_time": "2024-08-17T14:23:15.140661Z",
     "start_time": "2024-08-17T14:23:14.902424Z"
    }
   },
   "id": "a4383f7897c684bf",
   "execution_count": 3
  },
  {
   "cell_type": "code",
   "outputs": [
    {
     "data": {
      "text/plain": "(tensor([[ 0.0194,  0.2161],\n         [-0.0172,  0.0849]], device='cuda:0'),\n tensor([[ 0.1391],\n         [-0.1082]], device='cuda:0'),\n tensor([[-0.5187,  1.2268]], device='cuda:0'),\n tensor([[-0.]], device='cuda:0'))"
     },
     "execution_count": 4,
     "metadata": {},
     "output_type": "execute_result"
    }
   ],
   "source": [
    "G_0"
   ],
   "metadata": {
    "collapsed": false,
    "ExecuteTime": {
     "end_time": "2024-08-17T14:23:15.232646Z",
     "start_time": "2024-08-17T14:23:15.143235Z"
    }
   },
   "id": "f3dfba08c63eb9b3",
   "execution_count": 4
  },
  {
   "cell_type": "code",
   "outputs": [
    {
     "name": "stdout",
     "output_type": "stream",
     "text": [
      "Test set of perturbed matrices saved successfully.\n"
     ]
    }
   ],
   "source": [
    "# Generate a test set of 20 perturbed matrices\n",
    "test_set = []\n",
    "for _ in range(30):\n",
    "    perturbed_matrix = perturb_matrices(*G_0, percentage=perturb_percentage, device=device)\n",
    "    test_set.append(perturbed_matrix)\n",
    "\n",
    "# Save the test set using pickle\n",
    "with open('test_set_lin_1.pkl', 'wb') as f:\n",
    "    pickle.dump(test_set, f)\n",
    "\n",
    "print(\"Test set of perturbed matrices saved successfully.\")"
   ],
   "metadata": {
    "collapsed": false,
    "ExecuteTime": {
     "end_time": "2024-08-17T14:23:15.302675Z",
     "start_time": "2024-08-17T14:23:15.234613Z"
    }
   },
   "id": "a3e877cf2c55d2d8",
   "execution_count": 5
  },
  {
   "cell_type": "code",
   "outputs": [
    {
     "name": "stdout",
     "output_type": "stream",
     "text": [
      "File size: 36445 bytes\n"
     ]
    }
   ],
   "source": [
    "import os\n",
    "\n",
    "file_path = 'test_set_lin_1.pkl'\n",
    "print(f\"File size: {os.path.getsize(file_path)} bytes\")"
   ],
   "metadata": {
    "collapsed": false,
    "ExecuteTime": {
     "end_time": "2024-08-17T14:23:22.080386Z",
     "start_time": "2024-08-17T14:23:22.074180Z"
    }
   },
   "id": "2a6c0461eaadc5cd",
   "execution_count": 7
  },
  {
   "cell_type": "code",
   "outputs": [
    {
     "name": "stderr",
     "output_type": "stream",
     "text": [
      "/home/rbusetto/.virtualenvs/in-context-controller/lib/python3.10/site-packages/torch/storage.py:414: FutureWarning: You are using `torch.load` with `weights_only=False` (the current default value), which uses the default pickle module implicitly. It is possible to construct malicious pickle data which will execute arbitrary code during unpickling (See https://github.com/pytorch/pytorch/blob/main/SECURITY.md#untrusted-models for more details). In a future release, the default value for `weights_only` will be flipped to `True`. This limits the functions that could be executed during unpickling. Arbitrary objects will no longer be allowed to be loaded via this mode unless they are explicitly allowlisted by the user via `torch.serialization.add_safe_globals`. We recommend you start setting `weights_only=True` for any use case where you don't have full control of the loaded file. Please open an issue on GitHub for any issues related to this experimental feature.\n",
      "  return torch.load(io.BytesIO(b))\n"
     ]
    }
   ],
   "source": [
    "# Load the test set from the pickle file\n",
    "with open('test_set_lin_1.pkl', 'rb') as f:\n",
    "    test_set = pickle.load(f)"
   ],
   "metadata": {
    "collapsed": false,
    "ExecuteTime": {
     "end_time": "2024-08-17T14:23:23.063079Z",
     "start_time": "2024-08-17T14:23:22.988695Z"
    }
   },
   "id": "58b335600789dc21",
   "execution_count": 8
  },
  {
   "cell_type": "code",
   "outputs": [],
   "source": [
    "from control_torch import drss, forced_response, tf2ss, c2d, perturb_matrices, set_seed, perturb_parameters\n",
    "from signals_torch import steps_sequence\n",
    "import matplotlib.pyplot as plt"
   ],
   "metadata": {
    "collapsed": false,
    "ExecuteTime": {
     "end_time": "2024-08-17T14:23:23.650726Z",
     "start_time": "2024-08-17T14:23:23.233402Z"
    }
   },
   "id": "b5bd84ebf6d27db2",
   "execution_count": 9
  },
  {
   "cell_type": "code",
   "outputs": [],
   "source": [
    "## PLOT STEP RESPONSE TO ENSURE STABILITY\n",
    "Y = torch.empty((30, 500), device=device, dtype=torch.float32)\n",
    "x_i = torch.zeros((30, 2), device=device, dtype=torch.float32)\n",
    "u = torch.full((500,), 10, device=device, dtype=torch.float32)\n",
    "u = u.reshape(-1, 1)\n",
    "u[:50] = 0\n",
    "for j, system in enumerate(test_set):\n",
    "    y = forced_response(*system, u, x0=x_i[j])\n",
    "    if y.dim() == 2 and y.size(1) == 1:\n",
    "        y = y.squeeze(1)  # Remove the second dimension if it has size 1\n",
    "    Y[j] = y\n"
   ],
   "metadata": {
    "collapsed": false,
    "ExecuteTime": {
     "end_time": "2024-08-17T14:23:25.726894Z",
     "start_time": "2024-08-17T14:23:24.283342Z"
    }
   },
   "id": "ddb52954d0e77d82",
   "execution_count": 10
  },
  {
   "cell_type": "code",
   "outputs": [
    {
     "name": "stderr",
     "output_type": "stream",
     "text": [
      "/tmp/ipykernel_17867/4267621663.py:7: UserWarning: No artists with labels found to put in legend.  Note that artists whose label start with an underscore are ignored when legend() is called with no argument.\n",
      "  plt.legend()  # Show legend\n"
     ]
    },
    {
     "data": {
      "text/plain": "<Figure size 2000x1000 with 1 Axes>",
      "image/png": "[encoded data removed]"
     },
     "metadata": {},
     "output_type": "display_data"
    }
   ],
   "source": [
    "plt.figure(figsize=(20, 10))  # Set the figure size\n",
    "for i in range(Y.shape[0]):\n",
    "    plt.plot(Y[i].cpu().numpy())\n",
    "\n",
    "plt.xlabel('Time Step')  # X-axis label\n",
    "plt.title('Responses of the test systems to a step')  # Title of the plot\n",
    "plt.legend()  # Show legend\n",
    "plt.grid(True)  \n",
    "plt.show()  # "
   ],
   "metadata": {
    "collapsed": false,
    "ExecuteTime": {
     "end_time": "2024-08-17T14:23:25.966817Z",
     "start_time": "2024-08-17T14:23:25.729739Z"
    }
   },
   "id": "89fa63e5da5b2f59",
   "execution_count": 11
  },
  {
   "cell_type": "code",
   "outputs": [],
   "source": [],
   "metadata": {
    "collapsed": false
   },
   "id": "ab51f53a18204df1"
  }
 ],
 "metadata": {
  "kernelspec": {
   "display_name": "Python 3",
   "language": "python",
   "name": "python3"
  },
  "language_info": {
   "codemirror_mode": {
    "name": "ipython",
    "version": 2
   },
   "file_extension": ".py",
   "mimetype": "text/x-python",
   "name": "python",
   "nbconvert_exporter": "python",
   "pygments_lexer": "ipython2",
   "version": "2.7.6"
  }
 },
 "nbformat": 4,
 "nbformat_minor": 5
}
